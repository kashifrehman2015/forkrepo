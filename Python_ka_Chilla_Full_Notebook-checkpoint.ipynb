{
 "cells": [
  {
   "cell_type": "markdown",
   "id": "edd30e1b",
   "metadata": {},
   "source": [
    "# Learning python with Baba Ammar\n",
    "## Python Basics\n",
    "### My first Program"
   ]
  },
  {
   "cell_type": "code",
   "execution_count": 1,
   "id": "de95e81f",
   "metadata": {},
   "outputs": [
    {
     "name": "stdout",
     "output_type": "stream",
     "text": [
      "8\n",
      "24\n",
      "Hello to the World\n",
      "we are learning python with aamar\n"
     ]
    }
   ],
   "source": [
    "print(3+5)\n",
    "print(14+10)\n",
    "print(\"Hello to the World\")\n",
    "print(\"we are learning python with aamar\")"
   ]
  },
  {
   "cell_type": "markdown",
   "id": "1f120a83",
   "metadata": {},
   "source": [
    "**Operators in Python**"
   ]
  },
  {
   "cell_type": "code",
   "execution_count": 2,
   "id": "ab8733e7",
   "metadata": {},
   "outputs": [
    {
     "name": "stdout",
     "output_type": "stream",
     "text": [
      "5\n",
      "36\n",
      "1\n",
      "2.0\n",
      "8\n",
      "6.0\n"
     ]
    }
   ],
   "source": [
    "print(3+2)\n",
    "print(6*6)\n",
    "print(6//6)\n",
    "print(6/3)\n",
    "print(2**3)\n",
    "print(2**3/2*3/3+6-4)"
   ]
  },
  {
   "cell_type": "markdown",
   "id": "fb574bab",
   "metadata": {},
   "source": [
    "*PEMDAS*\n",
    "*Paraenthesis, Exponent, Multipy, Divide, Addition and Subtraction*"
   ]
  },
  {
   "cell_type": "markdown",
   "id": "b6d3a349",
   "metadata": {},
   "source": [
    "**String in Python**"
   ]
  },
  {
   "cell_type": "code",
   "execution_count": 3,
   "id": "fbf82f58",
   "metadata": {},
   "outputs": [
    {
     "name": "stdout",
     "output_type": "stream",
     "text": [
      "Hello to the World\n",
      "we are learning python with aamar\n",
      "what's up\n"
     ]
    }
   ],
   "source": [
    "print(\"Hello to the World\")\n",
    "print(\"we are learning python with aamar\")\n",
    "print(\"what's up\")"
   ]
  },
  {
   "cell_type": "markdown",
   "id": "99a46d86",
   "metadata": {},
   "source": [
    "**Usage of Comments (Ctlr+/)**"
   ]
  },
  {
   "cell_type": "code",
   "execution_count": 4,
   "id": "7c3b1df7",
   "metadata": {},
   "outputs": [
    {
     "name": "stdout",
     "output_type": "stream",
     "text": [
      "Hello to the World\n",
      "we are learning python with aamar\n",
      "learning in python\n"
     ]
    }
   ],
   "source": [
    "print(\"Hello to the World\") #use of inverted commas\n",
    "print(\"we are learning python with aamar\") #Comments are used to explain the code\n",
    "print('''learning in python''')"
   ]
  },
  {
   "cell_type": "markdown",
   "id": "4123b219",
   "metadata": {},
   "source": [
    "**Variables are objects containing specific values**\n",
    "Rules to Assign Variables \n",
    "1- the variable shouls contain letters, numbers and underscores\n",
    "2-Donot start with number\n",
    "3-Spaces are not allowed\n",
    "4-Donot use Keywords used in functions (break, mean, media, test etc)\n",
    "5-short and descriptive\n",
    "6-case sensitive (lower case letter should be used)"
   ]
  },
  {
   "cell_type": "code",
   "execution_count": 5,
   "id": "5619ab25",
   "metadata": {},
   "outputs": [
    {
     "name": "stdout",
     "output_type": "stream",
     "text": [
      "5\n",
      "we are learning python with ammaar\n",
      "<class 'int'> <class 'str'>\n",
      "<class 'str'>\n"
     ]
    }
   ],
   "source": [
    "x=5\n",
    "print(x)\n",
    "y=\"we are learning python with ammaar\"\n",
    "print(y)\n",
    "# Types/Class of Variables\n",
    "print(type(x),type(y))\n",
    "fruit=8\n",
    "fruit=\"mangoes\"\n",
    "# del fruit  del is used to delete the variable\n",
    "# Last updates varible value will show from integer to string\n",
    "print(type(fruit))"
   ]
  },
  {
   "cell_type": "markdown",
   "id": "168a816c",
   "metadata": {},
   "source": [
    "**Input Variables**"
   ]
  },
  {
   "cell_type": "code",
   "execution_count": 6,
   "id": "5daa1f07",
   "metadata": {},
   "outputs": [
    {
     "name": "stdout",
     "output_type": "stream",
     "text": [
      "8\n",
      "Enter the Name of your Favourite Fruite.....?Mango\n",
      "Greeting! Your Favourite fruite is Mango\n",
      "name of fruitMango\n",
      "Hello Mango\n",
      "What is Your Name?  Kashif\n",
      "Hello Kashif\n",
      "Enter Your First Name? Kashif\n",
      "Enter Your Last Name? Rehman\n",
      "how old are You? 32\n",
      "Hello! Kashif Rehman , You are still young\n"
     ]
    }
   ],
   "source": [
    "fruit=8\n",
    "print(fruit)\n",
    "# input function simple\n",
    "fruit=input(\"Enter the Name of your Favourite Fruite.....?\")\n",
    "print(\"Greeting! Your Favourite fruite is\", fruit)\n",
    "# Input Function 2nd Stage\n",
    "name=input(\"name of fruit\")\n",
    "greetings=\"Hello\"\n",
    "print(greetings,name)\n",
    "# another way of Input Function 2nd Stage\n",
    "name=input(\"What is Your Name?  \")\n",
    "print(\"Hello\",name)\n",
    "# 3rd Stage if input function\n",
    "name1=input(\"Enter Your First Name? \")\n",
    "name2=input(\"Enter Your Last Name? \")\n",
    "age=input(\"how old are You? \")\n",
    "print(\"Hello!\", name1, name2, \", You are still young\")"
   ]
  },
  {
   "cell_type": "markdown",
   "id": "9649947d",
   "metadata": {},
   "source": [
    "**logical operators are either true or false or yes or no, 0 or 1**\n",
    "equal to                          ==\n",
    "not equal to                      !=\n",
    "less than                         <\n",
    "greater than                      >\n",
    "less than and equal to            <=\n",
    "greater than and equal to         >=\n",
    "Q:is 6 is equal to 6??"
   ]
  },
  {
   "cell_type": "code",
   "execution_count": 7,
   "id": "bdfde860",
   "metadata": {},
   "outputs": [
    {
     "name": "stdout",
     "output_type": "stream",
     "text": [
      "True\n",
      "False\n",
      "True\n",
      "True\n",
      "True\n",
      "True\n",
      "False\n",
      "enter the age? 32\n",
      "False\n"
     ]
    }
   ],
   "source": [
    "print(6==6)\n",
    "print(6!=6)\n",
    "print(3<10)\n",
    "print(15>7)\n",
    "print(4<=10)\n",
    "print(15>=10)\n",
    "# # Application of logical operator\n",
    "haris_age=7\n",
    "eligible_school_age=5\n",
    "print(haris_age==eligible_school_age)\n",
    "#Input variable and conditional logics\n",
    "haris_age=input(\"enter the age? \")\n",
    "eligible_school_age=5\n",
    "haris_age=int(haris_age) #string to integer conversion\n",
    "print(haris_age==eligible_school_age)"
   ]
  },
  {
   "cell_type": "markdown",
   "id": "f20a360a",
   "metadata": {},
   "source": [
    "**Conversion Types**"
   ]
  },
  {
   "cell_type": "code",
   "execution_count": 8,
   "id": "89b22be4",
   "metadata": {},
   "outputs": [
    {
     "name": "stdout",
     "output_type": "stream",
     "text": [
      "155.0 <class 'float'>\n",
      "enter your age? 32\n",
      "32 <class 'int'>\n"
     ]
    }
   ],
   "source": [
    "x=10\n",
    "y=15.5\n",
    "# print(type(y))\n",
    "x*y\n",
    "print(x*y,type(x*y))\n",
    "# explicit typr conversion\n",
    "age=input(\"enter your age? \")\n",
    "#Float can not be convert into integer \n",
    "# string can be convert into int \n",
    "print(age,type(int(age)))   "
   ]
  },
  {
   "cell_type": "markdown",
   "id": "078a4a90",
   "metadata": {},
   "source": [
    "**if, else and elif**"
   ]
  },
  {
   "cell_type": "code",
   "execution_count": 9,
   "id": "674f947c",
   "metadata": {},
   "outputs": [
    {
     "name": "stdout",
     "output_type": "stream",
     "text": [
      "enter the age of haris? 5\n",
      "haris can join the school\n"
     ]
    }
   ],
   "source": [
    "# Q: if required school age is 5 then haris can join the school\n",
    "haris_age=input(\"enter the age of haris? \")\n",
    "haris_age=int(haris_age)\n",
    "# haris_age=10\n",
    "required_school_age=5\n",
    "if haris_age==required_school_age:\n",
    "    print(\"haris can join the school\")\n",
    "elif  haris_age > required_school_age:\n",
    "    print(\"haris should join Higher School\")\n",
    "elif  haris_age <=2:\n",
    "    print(\"haris is still Baby\")\n",
    "else:\n",
    "    print(\"haris can not join School \")"
   ]
  },
  {
   "cell_type": "markdown",
   "id": "61f9b8fd",
   "metadata": {},
   "source": [
    "**functions**"
   ]
  },
  {
   "cell_type": "code",
   "execution_count": 10,
   "id": "a5915a93",
   "metadata": {},
   "outputs": [
    {
     "name": "stdout",
     "output_type": "stream",
     "text": [
      "we learning python\n",
      "we learning python\n",
      "we learning python\n",
      "we learning python\n",
      "we learning python\n",
      "we learning python\n",
      "we learning python\n",
      "we learning python\n",
      "we learning python\n",
      "haris can not join school\n",
      "30\n"
     ]
    }
   ],
   "source": [
    "#if you want to print same value,operation more than once then it is suitable to create function\n",
    "# Define a function\n",
    "# 1st way\n",
    "def print_codanics():\n",
    "    print(\"we learning python\")\n",
    "    print(\"we learning python\")\n",
    "    print(\"we learning python\")\n",
    "print_codanics()\n",
    "# 2nd way\n",
    "def print_codanics():\n",
    "    text=\"we learning python\"\n",
    "    print(text)\n",
    "    print(text)\n",
    "    print(text)\n",
    "print_codanics()\n",
    "# 3rd way\n",
    "def print_codanics(text):\n",
    "    # text=\"we learning python\"\n",
    "    print(text)\n",
    "    print(text)\n",
    "    print(text)\n",
    "print_codanics(\"we learning python\")\n",
    "#Defining a fnction with if and else statement\n",
    "def school_calculator(age):\n",
    "    if age==5:\n",
    "        print(\"haris can join school\")\n",
    "    elif age<=2:\n",
    "        print(\"haris is still baby\")\n",
    "    elif age>=10:\n",
    "        print(\"haris should join highr school\")\n",
    "    else:\n",
    "        print(\"haris can not join school\")\n",
    "school_calculator(8)\n",
    "def future_age(age):\n",
    "    new_age=age+20\n",
    "    return new_age\n",
    "# future_age(10)\n",
    "# print(new_age)\n",
    "future_predicted_age=future_age(10)\n",
    "print(future_predicted_age)"
   ]
  },
  {
   "cell_type": "markdown",
   "id": "1b89b7a1",
   "metadata": {},
   "source": [
    "**while and for loops**"
   ]
  },
  {
   "cell_type": "code",
   "execution_count": 11,
   "id": "abf8bcf3",
   "metadata": {},
   "outputs": [
    {
     "name": "stdout",
     "output_type": "stream",
     "text": [
      "1\n",
      "2\n",
      "3\n",
      "4\n",
      "5\n",
      "6\n",
      "7\n",
      "8\n",
      "9\n",
      "10\n",
      "8\n",
      "9\n",
      "10\n",
      "11\n",
      "12\n",
      "13\n",
      "14\n",
      "Mon\n",
      "Tue\n",
      "Wed\n",
      "Thur\n",
      "Sat\n"
     ]
    }
   ],
   "source": [
    "# while and for loops\n",
    "# While loop\n",
    "x=0\n",
    "while (x<10):\n",
    "    x=x+1\n",
    "    print(x)\n",
    "for x in range(8,15):\n",
    "    print(x)\n",
    "# Array\n",
    "days=[\"Mon\",\"Tue\",\"Wed\",\"Thur\",\"Fri\",\"Sat\"]\n",
    "for i in days:\n",
    "    # if(i==\"Fri\"):break #Loop stops\n",
    "    if(i==\"Fri\"):continue #skips i\n",
    "    print(i)"
   ]
  },
  {
   "cell_type": "markdown",
   "id": "ed5ca1c0",
   "metadata": {},
   "source": [
    "**Import Libraries**"
   ]
  },
  {
   "cell_type": "code",
   "execution_count": 12,
   "id": "6bea7b40",
   "metadata": {},
   "outputs": [
    {
     "name": "stdout",
     "output_type": "stream",
     "text": [
      "The value of pi is  3.141592653589793\n",
      "150\n"
     ]
    }
   ],
   "source": [
    "# if you want to print the value of pi\n",
    "\n",
    "import math\n",
    "print(\"The value of pi is \",math.pi)\n",
    "import statistics\n",
    "\n",
    "x=[50,100,150,200,250]\n",
    "print(statistics.mean(x))\n",
    "#numpy, pandas"
   ]
  },
  {
   "cell_type": "markdown",
   "id": "73f148f9",
   "metadata": {},
   "source": [
    "**Trouble Shooting**\n",
    "#print(we are learning python) #syntax error\n",
    "\n",
    "#(25/0)  #runtime error"
   ]
  },
  {
   "cell_type": "code",
   "execution_count": 13,
   "id": "57d9d946",
   "metadata": {},
   "outputs": [
    {
     "ename": "SyntaxError",
     "evalue": "invalid syntax (Temp/ipykernel_8956/1340147476.py, line 10)",
     "output_type": "error",
     "traceback": [
      "\u001b[1;36m  File \u001b[1;32m\"C:\\Users\\User\\AppData\\Local\\Temp/ipykernel_8956/1340147476.py\"\u001b[1;36m, line \u001b[1;32m10\u001b[0m\n\u001b[1;33m    **Operators in Python**\u001b[0m\n\u001b[1;37m    ^\u001b[0m\n\u001b[1;31mSyntaxError\u001b[0m\u001b[1;31m:\u001b[0m invalid syntax\n"
     ]
    }
   ],
   "source": [
    "# Learning python with Baba Ammar\n",
    "## Python Basics\n",
    "### My first Program\n",
    "\n",
    "print(3+5)\n",
    "print(14+10)\n",
    "print(\"Hello to the World\")\n",
    "print(\"we are learning python with aamar\")\n",
    "\n",
    "**Operators in Python**\n",
    "\n",
    "print(3+2)\n",
    "print(6*6)\n",
    "print(6//6)\n",
    "print(6/3)\n",
    "print(2**3)\n",
    "print(2**3/2*3/3+6-4)\n",
    "\n",
    "*PEMDAS*\n",
    "*Paraenthesis, Exponent, Multipy, Divide, Addition and Subtraction*\n",
    "\n",
    "**String in Python**\n",
    "\n",
    "print(\"Hello to the World\")\n",
    "print(\"we are learning python with aamar\")\n",
    "print(\"what's up\")\n",
    "\n",
    "**Usage of Comments (Ctlr+/)**\n",
    "\n",
    "print(\"Hello to the World\") #use of inverted commas\n",
    "print(\"we are learning python with aamar\") #Comments are used to explain the code\n",
    "print('''learning in python''')\n",
    "\n",
    "**Variables are objects containing specific values**\n",
    "Rules to Assign Variables \n",
    "1- the variable shouls contain letters, numbers and underscores\n",
    "2-Donot start with number\n",
    "3-Spaces are not allowed\n",
    "4-Donot use Keywords used in functions (break, mean, media, test etc)\n",
    "5-short and descriptive\n",
    "6-case sensitive (lower case letter should be used)\n",
    "\n",
    "x=5\n",
    "print(x)\n",
    "y=\"we are learning python with ammaar\"\n",
    "print(y)\n",
    "# Types/Class of Variables\n",
    "print(type(x),type(y))\n",
    "fruit=8\n",
    "fruit=\"mangoes\"\n",
    "# del fruit  del is used to delete the variable\n",
    "# Last updates varible value will show from integer to string\n",
    "print(type(fruit))\n",
    "\n",
    "**Input Variables**\n",
    "\n",
    "fruit=8\n",
    "print(fruit)\n",
    "# input function simple\n",
    "fruit=input(\"Enter the Name of your Favourite Fruite.....?\")\n",
    "print(\"Greeting! Your Favourite fruite is\", fruit)\n",
    "# Input Function 2nd Stage\n",
    "name=input(\"name of fruit\")\n",
    "greetings=\"Hello\"\n",
    "print(greetings,name)\n",
    "# another way of Input Function 2nd Stage\n",
    "name=input(\"What is Your Name?  \")\n",
    "print(\"Hello\",name)\n",
    "# 3rd Stage if input function\n",
    "name1=input(\"Enter Your First Name? \")\n",
    "name2=input(\"Enter Your Last Name? \")\n",
    "age=input(\"how old are You? \")\n",
    "print(\"Hello!\", name1, name2, \", You are still young\")\n",
    "\n",
    "**logical operators are either true or false or yes or no, 0 or 1**\n",
    "equal to                          ==\n",
    "not equal to                      !=\n",
    "less than                         <\n",
    "greater than                      >\n",
    "less than and equal to            <=\n",
    "greater than and equal to         >=\n",
    "Q:is 6 is equal to 6??\n",
    "\n",
    "print(6==6)\n",
    "print(6!=6)\n",
    "print(3<10)\n",
    "print(15>7)\n",
    "print(4<=10)\n",
    "print(15>=10)\n",
    "# # Application of logical operator\n",
    "haris_age=7\n",
    "eligible_school_age=5\n",
    "print(haris_age==eligible_school_age)\n",
    "#Input variable and conditional logics\n",
    "haris_age=input(\"enter the age? \")\n",
    "eligible_school_age=5\n",
    "haris_age=int(haris_age) #string to integer conversion\n",
    "print(haris_age==eligible_school_age)\n",
    "\n",
    "**Conversion Types**\n",
    "\n",
    "x=10\n",
    "y=15.5\n",
    "# print(type(y))\n",
    "x*y\n",
    "print(x*y,type(x*y))\n",
    "# explicit typr conversion\n",
    "age=input(\"enter your age? \")\n",
    "#Float can not be convert into integer \n",
    "# string can be convert into int \n",
    "print(age,type(int(age)))   \n",
    "\n",
    "**if, else and elif**\n",
    "\n",
    "# Q: if required school age is 5 then haris can join the school\n",
    "haris_age=input(\"enter the age of haris? \")\n",
    "haris_age=int(haris_age)\n",
    "# haris_age=10\n",
    "required_school_age=5\n",
    "if haris_age==required_school_age:\n",
    "    print(\"haris can join the school\")\n",
    "elif  haris_age > required_school_age:\n",
    "    print(\"haris should join Higher School\")\n",
    "elif  haris_age <=2:\n",
    "    print(\"haris is still Baby\")\n",
    "else:\n",
    "    print(\"haris can not join School \")\n",
    "\n",
    "**functions**\n",
    "\n",
    "#if you want to print same value,operation more than once then it is suitable to create function\n",
    "# Define a function\n",
    "# 1st way\n",
    "def print_codanics():\n",
    "    print(\"we learning python\")\n",
    "    print(\"we learning python\")\n",
    "    print(\"we learning python\")\n",
    "print_codanics()\n",
    "# 2nd way\n",
    "def print_codanics():\n",
    "    text=\"we learning python\"\n",
    "    print(text)\n",
    "    print(text)\n",
    "    print(text)\n",
    "print_codanics()\n",
    "# 3rd way\n",
    "def print_codanics(text):\n",
    "    # text=\"we learning python\"\n",
    "    print(text)\n",
    "    print(text)\n",
    "    print(text)\n",
    "print_codanics(\"we learning python\")\n",
    "#Defining a fnction with if and else statement\n",
    "def school_calculator(age):\n",
    "    if age==5:\n",
    "        print(\"haris can join school\")\n",
    "    elif age<=2:\n",
    "        print(\"haris is still baby\")\n",
    "    elif age>=10:\n",
    "        print(\"haris should join highr school\")\n",
    "    else:\n",
    "        print(\"haris can not join school\")\n",
    "school_calculator(8)\n",
    "def future_age(age):\n",
    "    new_age=age+20\n",
    "    return new_age\n",
    "# future_age(10)\n",
    "# print(new_age)\n",
    "future_predicted_age=future_age(10)\n",
    "print(future_predicted_age)\n",
    "\n",
    "**while and for loops**\n",
    "\n",
    "# while and for loops\n",
    "# While loop\n",
    "x=0\n",
    "while (x<10):\n",
    "    x=x+1\n",
    "    print(x)\n",
    "for x in range(8,15):\n",
    "    print(x)\n",
    "# Array\n",
    "days=[\"Mon\",\"Tue\",\"Wed\",\"Thur\",\"Fri\",\"Sat\"]\n",
    "for i in days:\n",
    "    # if(i==\"Fri\"):break #Loop stops\n",
    "    if(i==\"Fri\"):continue #skips i\n",
    "    print(i)\n",
    "\n",
    "**Import Libraries**\n",
    "\n",
    "# if you want to print the value of pi\n",
    "\n",
    "import math\n",
    "print(\"The value of pi is \",math.pi)\n",
    "import statistics\n",
    "\n",
    "x=[50,100,150,200,250]\n",
    "print(statistics.mean(x))\n",
    "#numpy, pandas\n",
    "\n",
    "**Trouble Shooting**\n",
    "#print(we are learning python) #syntax error\n",
    "\n",
    "#(25/0)  #runtime error"
   ]
  },
  {
   "cell_type": "markdown",
   "id": "3fa53cd4",
   "metadata": {},
   "source": [
    "# -Indexing"
   ]
  },
  {
   "cell_type": "code",
   "execution_count": null,
   "id": "3e3087a4",
   "metadata": {
    "scrolled": true
   },
   "outputs": [],
   "source": [
    "#Make a string \n",
    "a=\"roti salun\"\n",
    "a"
   ]
  },
  {
   "cell_type": "code",
   "execution_count": null,
   "id": "643056a7",
   "metadata": {},
   "outputs": [],
   "source": [
    "a[0]"
   ]
  },
  {
   "cell_type": "code",
   "execution_count": null,
   "id": "5cf74e96",
   "metadata": {},
   "outputs": [],
   "source": [
    "a[1]"
   ]
  },
  {
   "cell_type": "code",
   "execution_count": null,
   "id": "b075eb23",
   "metadata": {},
   "outputs": [],
   "source": [
    "a[3]"
   ]
  },
  {
   "cell_type": "code",
   "execution_count": null,
   "id": "42ee551e",
   "metadata": {},
   "outputs": [],
   "source": [
    "a[5]"
   ]
  },
  {
   "cell_type": "code",
   "execution_count": null,
   "id": "634cdf99",
   "metadata": {},
   "outputs": [],
   "source": [
    "#length of indeces\n",
    "len(a)"
   ]
  },
  {
   "cell_type": "code",
   "execution_count": null,
   "id": "370a9fb0",
   "metadata": {},
   "outputs": [],
   "source": [
    "a[9]"
   ]
  },
  {
   "cell_type": "code",
   "execution_count": null,
   "id": "c791a22a",
   "metadata": {},
   "outputs": [],
   "source": [
    "a[0:4]"
   ]
  },
  {
   "cell_type": "code",
   "execution_count": null,
   "id": "73a188cf",
   "metadata": {},
   "outputs": [],
   "source": [
    "#last index is inclusive\n",
    "a[0:9]"
   ]
  },
  {
   "cell_type": "code",
   "execution_count": null,
   "id": "09f12b69",
   "metadata": {},
   "outputs": [],
   "source": [
    "a[-1]"
   ]
  },
  {
   "cell_type": "code",
   "execution_count": null,
   "id": "24ff429d",
   "metadata": {},
   "outputs": [],
   "source": [
    "a[-10:-1]"
   ]
  },
  {
   "cell_type": "markdown",
   "id": "f658b465",
   "metadata": {},
   "source": [
    "---"
   ]
  },
  {
   "cell_type": "markdown",
   "id": "5a3450dc",
   "metadata": {},
   "source": [
    "# -String Methods"
   ]
  },
  {
   "cell_type": "code",
   "execution_count": null,
   "id": "369ffb11",
   "metadata": {},
   "outputs": [],
   "source": [
    "food=\"biryani\"\n",
    "food"
   ]
  },
  {
   "cell_type": "code",
   "execution_count": null,
   "id": "8aa9b526",
   "metadata": {},
   "outputs": [],
   "source": [
    "len(food)"
   ]
  },
  {
   "cell_type": "code",
   "execution_count": null,
   "id": "1622a52f",
   "metadata": {
    "scrolled": true
   },
   "outputs": [],
   "source": [
    "food.capitalize()"
   ]
  },
  {
   "cell_type": "code",
   "execution_count": null,
   "id": "ab61b268",
   "metadata": {
    "scrolled": true
   },
   "outputs": [],
   "source": [
    "#lowecase\n",
    "food.casefold()"
   ]
  },
  {
   "cell_type": "code",
   "execution_count": null,
   "id": "54053a6b",
   "metadata": {},
   "outputs": [],
   "source": [
    "food.upper()"
   ]
  },
  {
   "cell_type": "code",
   "execution_count": null,
   "id": "0df691ef",
   "metadata": {
    "scrolled": false
   },
   "outputs": [],
   "source": [
    "food.lower()"
   ]
  },
  {
   "cell_type": "code",
   "execution_count": null,
   "id": "e8e86d3a",
   "metadata": {},
   "outputs": [],
   "source": [
    "food.replace(\"b\",\"s\")"
   ]
  },
  {
   "cell_type": "code",
   "execution_count": null,
   "id": "5c18790d",
   "metadata": {},
   "outputs": [],
   "source": [
    "# Counting a specific alphbet in  astring\n",
    "name=\"learnig python\"\n",
    "name"
   ]
  },
  {
   "cell_type": "code",
   "execution_count": null,
   "id": "4492a7db",
   "metadata": {},
   "outputs": [],
   "source": [
    "name.count(\"n\")"
   ]
  },
  {
   "cell_type": "markdown",
   "id": "4d8b50d1",
   "metadata": {},
   "source": [
    "# -Finding index number in string"
   ]
  },
  {
   "cell_type": "code",
   "execution_count": null,
   "id": "6ae5d706",
   "metadata": {
    "scrolled": true
   },
   "outputs": [],
   "source": [
    "name=\"My name is Kashif Rehman and learning Python with Baba aammar\"\n",
    "name"
   ]
  },
  {
   "cell_type": "code",
   "execution_count": null,
   "id": "d8f4dee9",
   "metadata": {},
   "outputs": [],
   "source": [
    "name.find(\"B\")"
   ]
  },
  {
   "cell_type": "markdown",
   "id": "aaba1e13",
   "metadata": {},
   "source": [
    "### How split a string"
   ]
  },
  {
   "cell_type": "code",
   "execution_count": null,
   "id": "341ae7a4",
   "metadata": {},
   "outputs": [],
   "source": [
    "food=\"I love samosa, pakora, raita, biryani and karahi\"\n",
    "food"
   ]
  },
  {
   "cell_type": "code",
   "execution_count": null,
   "id": "9e921f6b",
   "metadata": {
    "scrolled": true
   },
   "outputs": [],
   "source": [
    "food.split(\",\")"
   ]
  },
  {
   "cell_type": "markdown",
   "id": "c1fefc10",
   "metadata": {},
   "source": [
    "---"
   ]
  },
  {
   "cell_type": "markdown",
   "id": "6ed57c0c",
   "metadata": {},
   "source": [
    "# Basic data Structure in Python\n",
    "### 1-Tuple\n",
    "### 2-List\n",
    "### 3-Dictionaries\n",
    "### 4-Set"
   ]
  },
  {
   "cell_type": "markdown",
   "id": "993e097c",
   "metadata": {},
   "source": [
    "### 1-Tuple \n",
    "* ordered collection of elements\n",
    "* enclosed in paraenthesis ()\n",
    "* Different elements can be stored\n",
    "* once elements stored then can not be changed (immutable)"
   ]
  },
  {
   "cell_type": "code",
   "execution_count": null,
   "id": "febc64d1",
   "metadata": {},
   "outputs": [],
   "source": [
    "tup1=(1, \"python\", True, 2.5)\n",
    "tup1"
   ]
  },
  {
   "cell_type": "code",
   "execution_count": null,
   "id": "525ef60a",
   "metadata": {},
   "outputs": [],
   "source": [
    "type(tup1)"
   ]
  },
  {
   "cell_type": "markdown",
   "id": "e8655807",
   "metadata": {},
   "source": [
    "### -indexing in Tuple"
   ]
  },
  {
   "cell_type": "code",
   "execution_count": null,
   "id": "6f84b702",
   "metadata": {},
   "outputs": [],
   "source": [
    "tup1[0]"
   ]
  },
  {
   "cell_type": "code",
   "execution_count": null,
   "id": "c1884777",
   "metadata": {},
   "outputs": [],
   "source": [
    "tup1[2]"
   ]
  },
  {
   "cell_type": "code",
   "execution_count": null,
   "id": "f879e941",
   "metadata": {},
   "outputs": [],
   "source": [
    "#Last element is exclusive\n",
    "tup1[0:3]"
   ]
  },
  {
   "cell_type": "code",
   "execution_count": null,
   "id": "14775a6f",
   "metadata": {},
   "outputs": [],
   "source": [
    "# count of element in tuple\n",
    "len(tup1)"
   ]
  },
  {
   "cell_type": "code",
   "execution_count": null,
   "id": "9a369546",
   "metadata": {},
   "outputs": [],
   "source": [
    "tup2=(10, \"Life\", \"programing\", 5.5)\n",
    "tup2"
   ]
  },
  {
   "cell_type": "code",
   "execution_count": null,
   "id": "30520f56",
   "metadata": {},
   "outputs": [],
   "source": [
    "tup1+tup2"
   ]
  },
  {
   "cell_type": "code",
   "execution_count": null,
   "id": "172d004f",
   "metadata": {},
   "outputs": [],
   "source": [
    "tup1*2+tup2"
   ]
  },
  {
   "cell_type": "code",
   "execution_count": null,
   "id": "fd01af31",
   "metadata": {},
   "outputs": [],
   "source": [
    "tup3=(20, 70, 50, 100, 250)\n",
    "tup3"
   ]
  },
  {
   "cell_type": "code",
   "execution_count": null,
   "id": "ab193397",
   "metadata": {},
   "outputs": [],
   "source": [
    "# Minimum Value\n",
    "min(tup3)"
   ]
  },
  {
   "cell_type": "code",
   "execution_count": null,
   "id": "3b832ab5",
   "metadata": {},
   "outputs": [],
   "source": [
    "# Maximum Value\n",
    "max(tup3)"
   ]
  },
  {
   "cell_type": "code",
   "execution_count": null,
   "id": "16b84094",
   "metadata": {},
   "outputs": [],
   "source": [
    "tup3*2"
   ]
  },
  {
   "cell_type": "markdown",
   "id": "3dee46a6",
   "metadata": {},
   "source": [
    "### 2-List\n",
    "* Ordered collection of elements\n",
    "* enclosed in squre brackets [ ]\n",
    "* Values can be changed (Mutatable)"
   ]
  },
  {
   "cell_type": "code",
   "execution_count": null,
   "id": "b34aad78",
   "metadata": {},
   "outputs": [],
   "source": [
    "list1=[10, \"kashif\", False]\n",
    "list1"
   ]
  },
  {
   "cell_type": "code",
   "execution_count": null,
   "id": "c6419a23",
   "metadata": {},
   "outputs": [],
   "source": [
    "type(list1)"
   ]
  },
  {
   "cell_type": "code",
   "execution_count": null,
   "id": "0cd8831c",
   "metadata": {},
   "outputs": [],
   "source": [
    "len(list1)"
   ]
  },
  {
   "cell_type": "code",
   "execution_count": null,
   "id": "b521b73d",
   "metadata": {},
   "outputs": [],
   "source": [
    "list1[2]"
   ]
  },
  {
   "cell_type": "code",
   "execution_count": null,
   "id": "d0419684",
   "metadata": {},
   "outputs": [],
   "source": [
    "list2=[8, 10, \"Engineering\", \"Teaching\", \"Fasle\"]\n",
    "list2"
   ]
  },
  {
   "cell_type": "code",
   "execution_count": null,
   "id": "011ccff5",
   "metadata": {},
   "outputs": [],
   "source": [
    "list1+list2"
   ]
  },
  {
   "cell_type": "code",
   "execution_count": null,
   "id": "e9367800",
   "metadata": {},
   "outputs": [],
   "source": [
    "list2*2"
   ]
  },
  {
   "cell_type": "code",
   "execution_count": null,
   "id": "44ea45bf",
   "metadata": {},
   "outputs": [],
   "source": [
    "list1.reverse()\n",
    "list1"
   ]
  },
  {
   "cell_type": "code",
   "execution_count": null,
   "id": "dad2b422",
   "metadata": {},
   "outputs": [],
   "source": [
    "list1.append(\"study\")\n",
    "list1"
   ]
  },
  {
   "cell_type": "code",
   "execution_count": null,
   "id": "ebdf95b4",
   "metadata": {},
   "outputs": [],
   "source": [
    "list1.insert(0, \"orange\")\n",
    "list1"
   ]
  },
  {
   "cell_type": "code",
   "execution_count": null,
   "id": "7806afc8",
   "metadata": {},
   "outputs": [],
   "source": [
    "list1.remove(\"orange\")\n",
    "list1"
   ]
  },
  {
   "cell_type": "code",
   "execution_count": null,
   "id": "463ee379",
   "metadata": {},
   "outputs": [],
   "source": [
    "list3=[10, 15, 2, 45, 225, 78, 500, 25]\n",
    "list3"
   ]
  },
  {
   "cell_type": "code",
   "execution_count": null,
   "id": "31ccfd19",
   "metadata": {},
   "outputs": [],
   "source": [
    "len(list3)"
   ]
  },
  {
   "cell_type": "code",
   "execution_count": null,
   "id": "d146417c",
   "metadata": {},
   "outputs": [],
   "source": [
    "list3.sort()\n",
    "list3"
   ]
  },
  {
   "cell_type": "code",
   "execution_count": null,
   "id": "ab24c9aa",
   "metadata": {},
   "outputs": [],
   "source": [
    "lists=list1+list2\n",
    "lists"
   ]
  },
  {
   "cell_type": "code",
   "execution_count": null,
   "id": "eaae3179",
   "metadata": {
    "scrolled": true
   },
   "outputs": [],
   "source": [
    "list3*2"
   ]
  },
  {
   "cell_type": "markdown",
   "id": "e68e29bc",
   "metadata": {},
   "source": [
    "---"
   ]
  },
  {
   "cell_type": "markdown",
   "id": "d91cce27",
   "metadata": {},
   "source": [
    "## 3- Dictionaries\n",
    "* an unsorted collection of elements\n",
    "* key and vlaues\n",
    "* curly braces or brackets {  }\n",
    "* values can be changed"
   ]
  },
  {
   "cell_type": "code",
   "execution_count": null,
   "id": "18b92256",
   "metadata": {},
   "outputs": [],
   "source": [
    "# Daily use items and their prices\n",
    "items={\"Tea\":500, \"Soap\":50, \"Surf\":100, \"Tomato\":80, \"Potato\":60}\n",
    "items"
   ]
  },
  {
   "cell_type": "code",
   "execution_count": null,
   "id": "2e71ff1d",
   "metadata": {},
   "outputs": [],
   "source": [
    "type(items)"
   ]
  },
  {
   "cell_type": "code",
   "execution_count": null,
   "id": "5db3b1cf",
   "metadata": {},
   "outputs": [],
   "source": [
    "len(items)"
   ]
  },
  {
   "cell_type": "code",
   "execution_count": null,
   "id": "9cfa0d87",
   "metadata": {},
   "outputs": [],
   "source": [
    "# Extract Data\n",
    "keys=items.keys()\n",
    "keys"
   ]
  },
  {
   "cell_type": "code",
   "execution_count": null,
   "id": "e6124d15",
   "metadata": {},
   "outputs": [],
   "source": [
    "values=items.values()\n",
    "values"
   ]
  },
  {
   "cell_type": "code",
   "execution_count": null,
   "id": "dabfea50",
   "metadata": {},
   "outputs": [],
   "source": [
    "#Adding an element\n",
    "items[\"milk\"]=110\n",
    "items"
   ]
  },
  {
   "cell_type": "code",
   "execution_count": null,
   "id": "db6081e6",
   "metadata": {},
   "outputs": [],
   "source": [
    "# Update the values\n",
    "items[\"Tea\"]=550\n",
    "items"
   ]
  },
  {
   "cell_type": "code",
   "execution_count": null,
   "id": "1a6303b6",
   "metadata": {},
   "outputs": [],
   "source": [
    "items2={\"Rice\":120, \"Channy\":70, \"Biscuit\":150}\n",
    "items2"
   ]
  },
  {
   "cell_type": "code",
   "execution_count": null,
   "id": "7e04a86f",
   "metadata": {},
   "outputs": [],
   "source": [
    "# Cancatenate\n",
    "items.update(items2)\n",
    "items"
   ]
  },
  {
   "cell_type": "markdown",
   "id": "cae4d512",
   "metadata": {},
   "source": [
    "## 4- Set\n",
    "* unordered and undexed\n",
    "* curly brackets are used\n",
    "* no Duplicates are allowed "
   ]
  },
  {
   "cell_type": "code",
   "execution_count": null,
   "id": "5dad6dcd",
   "metadata": {},
   "outputs": [],
   "source": [
    "s1={10, 15.5, \"Multan\", \"Medical\", \"Kashif\", \"Baba\"}\n",
    "s1"
   ]
  },
  {
   "cell_type": "code",
   "execution_count": null,
   "id": "2644b5b2",
   "metadata": {},
   "outputs": [],
   "source": [
    "s1.add(\"Baba2\")\n",
    "s1"
   ]
  },
  {
   "cell_type": "code",
   "execution_count": null,
   "id": "95fe98ea",
   "metadata": {},
   "outputs": [],
   "source": [
    "s1.remove(\"Baba2\")\n",
    "s1"
   ]
  },
  {
   "cell_type": "code",
   "execution_count": null,
   "id": "2150c313",
   "metadata": {},
   "outputs": [],
   "source": [
    "s2={12,45,78,12}\n",
    "s2"
   ]
  },
  {
   "cell_type": "code",
   "execution_count": null,
   "id": "2cbae8cb",
   "metadata": {},
   "outputs": [],
   "source": [
    "s1.update(s2)\n",
    "s1"
   ]
  },
  {
   "cell_type": "code",
   "execution_count": null,
   "id": "cae18c97",
   "metadata": {},
   "outputs": [],
   "source": [
    "# Difference\n",
    "s1.difference(s2)"
   ]
  },
  {
   "cell_type": "code",
   "execution_count": null,
   "id": "f9aa3bd3",
   "metadata": {},
   "outputs": [],
   "source": [
    "s1.discard(10)\n",
    "s1"
   ]
  },
  {
   "cell_type": "markdown",
   "id": "97a69c51",
   "metadata": {},
   "source": [
    "# Import Libraries\n",
    "seaborn automatically installs these libraries\n",
    "* numpy\n",
    "*scipy\n",
    "*pandas\n",
    "*matplotlib"
   ]
  },
  {
   "cell_type": "code",
   "execution_count": null,
   "id": "502a7ed6",
   "metadata": {},
   "outputs": [],
   "source": [
    "# Import Libraries\n",
    "import seaborn as sns\n",
    "import matplotlib.pyplot as plt\n",
    "# Load Data\n",
    "\n",
    "phool=sns.load_dataset(\"iris\")\n",
    "phool"
   ]
  },
  {
   "cell_type": "code",
   "execution_count": null,
   "id": "c14375e8",
   "metadata": {
    "scrolled": true
   },
   "outputs": [],
   "source": [
    "# Import Libraries\n",
    "import seaborn as sns\n",
    "import matplotlib.pyplot as plt\n",
    "# Load Data\n",
    "\n",
    "phool=sns.load_dataset(\"iris\")\n",
    "phool\n",
    "# Draw a Line Plot\n",
    "sns.lineplot(x=\"sepal_length\", y=\"sepal_width\", data=phool)\n",
    "plt.show()"
   ]
  },
  {
   "cell_type": "markdown",
   "id": "9148a3e8",
   "metadata": {},
   "source": [
    "## Adding Titles in Graph"
   ]
  },
  {
   "cell_type": "code",
   "execution_count": null,
   "id": "dbb5b367",
   "metadata": {},
   "outputs": [],
   "source": [
    "# Import Libraries\n",
    "import seaborn as sns\n",
    "import matplotlib.pyplot as plt\n",
    "# Load Data\n",
    "\n",
    "phool=sns.load_dataset(\"iris\")\n",
    "phool\n",
    "# Draw a Line Plot\n",
    "sns.lineplot(x=\"sepal_length\", y=\"sepal_width\", data=phool)\n",
    "plt.title(\"Phoolon ka graph\")\n",
    "plt.show()"
   ]
  },
  {
   "cell_type": "markdown",
   "id": "8ef4e2a0",
   "metadata": {},
   "source": [
    "## Adding limits in Graph"
   ]
  },
  {
   "cell_type": "code",
   "execution_count": null,
   "id": "050bea4c",
   "metadata": {},
   "outputs": [],
   "source": [
    "# Import Libraries\n",
    "import seaborn as sns\n",
    "import matplotlib.pyplot as plt\n",
    "# Load Data\n",
    "\n",
    "phool=sns.load_dataset(\"iris\")\n",
    "phool\n",
    "# Draw a Line Plot\n",
    "sns.lineplot(x=\"sepal_length\", y=\"sepal_width\", data=phool)\n",
    "plt.title(\"Phoolon ka graph\")\n",
    "plt.xlim(2)\n",
    "plt.ylim(1)\n",
    "plt.show()"
   ]
  },
  {
   "cell_type": "markdown",
   "id": "3c9dcdcd",
   "metadata": {},
   "source": [
    "## Set Styles\n",
    "* Darkgrid\n",
    "* whitegrid\n",
    "* Dark\n",
    "* White\n",
    "* ticks"
   ]
  },
  {
   "cell_type": "code",
   "execution_count": null,
   "id": "0a8a01f8",
   "metadata": {},
   "outputs": [],
   "source": [
    "# Import Libraries\n",
    "import seaborn as sns\n",
    "import matplotlib.pyplot as plt\n",
    "# Load Data\n",
    "phool=sns.load_dataset(\"iris\")\n",
    "phool\n",
    "# Draw a Line Plot\n",
    "sns.lineplot(x=\"sepal_length\", y=\"sepal_width\", data=phool)\n",
    "plt.title(\"Phoolon ka graph\")\n",
    "# Set Style\n",
    "sns.set_style(\"dark\")\n",
    "sns.set_style(style=None, rc=None)\n",
    "plt.show()"
   ]
  },
  {
   "cell_type": "markdown",
   "id": "5c68f78d",
   "metadata": {},
   "source": [
    "## Size of Figure"
   ]
  },
  {
   "cell_type": "code",
   "execution_count": null,
   "id": "e87dd034",
   "metadata": {},
   "outputs": [],
   "source": [
    "# Import Libraries\n",
    "import seaborn as sns\n",
    "import matplotlib.pyplot as plt\n",
    "\n",
    "# Load Data\n",
    "\n",
    "phool=sns.load_dataset(\"iris\")\n",
    "phool\n",
    "# Draw a Line Plot\n",
    "sns.lineplot(x=\"sepal_length\", y=\"sepal_width\", data=phool)\n",
    "plt.title(\"Phoolon ka graph\")\n",
    "plt.figure(figsize=(8,6))\n",
    "plt.show()"
   ]
  },
  {
   "cell_type": "code",
   "execution_count": null,
   "id": "3d867c09",
   "metadata": {},
   "outputs": [],
   "source": [
    "# Import Libraries\n",
    "import seaborn as sns\n",
    "import matplotlib.pyplot as plt\n",
    "\n",
    "# Load Data\n",
    "\n",
    "phool=sns.load_dataset(\"iris\")\n",
    "phool\n",
    "# Draw a Line Plot\n",
    "sns.lineplot(x=\"sepal_length\", y=\"sepal_width\", data=phool)\n",
    "plt.title(\"Phoolon ka graph\")\n",
    "plt.figure(figsize=(10,8))\n",
    "plt.show()"
   ]
  },
  {
   "cell_type": "markdown",
   "id": "ac8f184b",
   "metadata": {},
   "source": [
    "## Bar Plot"
   ]
  },
  {
   "cell_type": "code",
   "execution_count": null,
   "id": "a589a63e",
   "metadata": {},
   "outputs": [],
   "source": [
    "# Import Libraries\n",
    "import seaborn as sns\n",
    "import matplotlib.pyplot as plt\n",
    "# Load Data\n",
    "\n",
    "phool=sns.load_dataset(\"iris\")\n",
    "phool\n",
    "# Draw a Line Plot\n",
    "sns.barplot(x=\"species\", y=\"sepal_width\", data=phool)\n",
    "plt.show()"
   ]
  },
  {
   "cell_type": "code",
   "execution_count": null,
   "id": "264e2042",
   "metadata": {},
   "outputs": [],
   "source": [
    "# Import Libraries\n",
    "import seaborn as sns\n",
    "import matplotlib.pyplot as plt\n",
    "# Load Data\n",
    "\n",
    "phool=sns.load_dataset(\"iris\")\n",
    "phool\n",
    "# Draw a Line Plot\n",
    "sns.barplot(x=\"species\", y=\"petal_length\", data=phool)\n",
    "plt.show()"
   ]
  },
  {
   "cell_type": "code",
   "execution_count": null,
   "id": "8df6f85e",
   "metadata": {},
   "outputs": [],
   "source": [
    "# Import Libraries\n",
    "import seaborn as sns\n",
    "import matplotlib.pyplot as plt\n",
    "# Load Data\n",
    "\n",
    "kashti=sns.load_dataset(\"titanic\")\n",
    "kashti\n"
   ]
  },
  {
   "cell_type": "code",
   "execution_count": null,
   "id": "e627ac3c",
   "metadata": {},
   "outputs": [],
   "source": [
    "# Import Libraries\n",
    "import seaborn as sns\n",
    "import matplotlib.pyplot as plt\n",
    "# Load Data\n",
    "\n",
    "kashti=sns.load_dataset(\"titanic\")\n",
    "kashti\n",
    "# Draw a Line Plot\n",
    "sns.barplot(x=\"who\", y=\"alone\", hue=\"sex\", data=kashti)\n",
    "plt.show()"
   ]
  },
  {
   "cell_type": "code",
   "execution_count": null,
   "id": "26852019",
   "metadata": {},
   "outputs": [],
   "source": [
    "# Import Libraries\n",
    "import seaborn as sns\n",
    "import matplotlib.pyplot as plt\n",
    "# Load Data\n",
    "\n",
    "kashti=sns.load_dataset(\"titanic\")\n",
    "kashti\n",
    "# Draw a Line Plot\n",
    "sns.barplot(x=\"sex\", y=\"alone\", hue=\"who\", data=kashti)\n",
    "plt.show()"
   ]
  },
  {
   "cell_type": "code",
   "execution_count": null,
   "id": "41be4141",
   "metadata": {},
   "outputs": [],
   "source": [
    "# Import Libraries\n",
    "import seaborn as sns\n",
    "import matplotlib.pyplot as plt\n",
    "# Load Data\n",
    "\n",
    "kashti=sns.load_dataset(\"titanic\")\n",
    "kashti\n",
    "# Draw a Line Plot\n",
    "sns.barplot(x=\"sex\", y=\"alone\", hue=\"who\", data=kashti, order=[\"female\", \"male\"])\n",
    "plt.show()"
   ]
  },
  {
   "cell_type": "code",
   "execution_count": null,
   "id": "008bbe2f",
   "metadata": {},
   "outputs": [],
   "source": [
    "# Import Libraries\n",
    "import seaborn as sns\n",
    "import matplotlib.pyplot as plt\n",
    "# Load Data\n",
    "\n",
    "kashti=sns.load_dataset(\"titanic\")\n",
    "kashti\n",
    "# Draw a Line Plot\n",
    "sns.barplot(x=\"sex\", y=\"alone\", hue=\"who\", data=kashti, order=[\"female\", \"male\"], color=\"grey\")\n",
    "plt.show()"
   ]
  },
  {
   "cell_type": "code",
   "execution_count": null,
   "id": "79710ca3",
   "metadata": {},
   "outputs": [],
   "source": [
    "# Import Libraries\n",
    "import seaborn as sns\n",
    "import matplotlib.pyplot as plt\n",
    "# Load Data\n",
    "\n",
    "kashti=sns.load_dataset(\"titanic\")\n",
    "kashti\n",
    "# Draw a Line Plot\n",
    "sns.barplot(x=\"sex\", y=\"alone\", hue=\"who\", data=kashti, order=[\"female\", \"male\"], color=\"red\")\n",
    "plt.show()"
   ]
  },
  {
   "cell_type": "code",
   "execution_count": null,
   "id": "bbf07590",
   "metadata": {},
   "outputs": [],
   "source": [
    "# Import Libraries\n",
    "import seaborn as sns\n",
    "import matplotlib.pyplot as plt\n",
    "# Load Data\n",
    "\n",
    "kashti=sns.load_dataset(\"titanic\")\n",
    "kashti\n",
    "# Draw a Line Plot\n",
    "sns.barplot(x=\"sex\", y=\"alone\", hue=\"who\", data=kashti, order=[\"female\", \"male\"], color=\"salmon\")\n",
    "plt.show()"
   ]
  },
  {
   "cell_type": "code",
   "execution_count": null,
   "id": "9f2571ad",
   "metadata": {},
   "outputs": [],
   "source": [
    "# Import Libraries\n",
    "import seaborn as sns\n",
    "import matplotlib.pyplot as plt\n",
    "# Load Data\n",
    "\n",
    "kashti=sns.load_dataset(\"titanic\")\n",
    "kashti\n",
    "# Draw a Line Plot\n",
    "sns.barplot(x=\"sex\", y=\"alone\", hue=\"who\", data=kashti, order=[\"female\", \"male\"], color=\"red\", ci=None)\n",
    "plt.show()"
   ]
  },
  {
   "cell_type": "code",
   "execution_count": null,
   "id": "d7f37647",
   "metadata": {},
   "outputs": [],
   "source": [
    "# Import Libraries\n",
    "import seaborn as sns\n",
    "import matplotlib.pyplot as plt\n",
    "# Load Data\n",
    "\n",
    "kashti=sns.load_dataset(\"titanic\")\n",
    "kashti\n",
    "# Draw a Line Plot\n",
    "sns.barplot(x=\"sex\", y=\"alone\", hue=\"who\", data=kashti, order=[\"female\", \"male\"], color=\"red\", ci=None, palette=\"pastel\")\n",
    "plt.show()"
   ]
  },
  {
   "cell_type": "code",
   "execution_count": null,
   "id": "498e131e",
   "metadata": {},
   "outputs": [],
   "source": [
    "# Import Libraries\n",
    "import seaborn as sns\n",
    "import numpy\n",
    "import matplotlib.pyplot as plt\n",
    "# Load Data\n",
    "\n",
    "kashti=sns.load_dataset(\"titanic\")\n",
    "kashti\n",
    "# Draw a Line Plot\n",
    "sns.barplot(x=\"class\", y=\"fare\", hue=\"sex\", data=kashti, estimator=median)\n",
    "plt.show()"
   ]
  },
  {
   "cell_type": "code",
   "execution_count": null,
   "id": "19a6e32c",
   "metadata": {},
   "outputs": [],
   "source": [
    "# Import Libraries\n",
    "import seaborn as sns\n",
    "import numpy\n",
    "import matplotlib.pyplot as plt\n",
    "# Load Data\n",
    "\n",
    "kashti=sns.load_dataset(\"titanic\")\n",
    "kashti\n",
    "# Draw a Line Plot\n",
    "sns.barplot(x=\"class\", y=\"fare\", hue=\"sex\", data=kashti, estimator=mean)\n",
    "plt.show()"
   ]
  },
  {
   "cell_type": "code",
   "execution_count": null,
   "id": "d3fa8b14",
   "metadata": {},
   "outputs": [],
   "source": [
    "# Import Libraries\n",
    "import seaborn as sns\n",
    "import numpy\n",
    "import matplotlib.pyplot as plt\n",
    "# Load Data\n",
    "\n",
    "kashti=sns.load_dataset(\"titanic\")\n",
    "kashti\n",
    "# Draw a Line Plot\n",
    "sns.barplot(x=\"class\", y=\"fare\", hue=\"sex\", data=kashti, estimator=mean, saturation=0.5)\n",
    "plt.show()"
   ]
  },
  {
   "cell_type": "code",
   "execution_count": null,
   "id": "54d37e36",
   "metadata": {},
   "outputs": [],
   "source": [
    "# Import Libraries\n",
    "import seaborn as sns\n",
    "import numpy\n",
    "import matplotlib.pyplot as plt\n",
    "# Load Data\n",
    "\n",
    "kashti=sns.load_dataset(\"titanic\")\n",
    "kashti\n",
    "# Draw a Line Plot\n",
    "sns.barplot(x=\"class\", y=\"fare\", hue=\"sex\", data=kashti, estimator=mean, saturation=0.1)\n",
    "plt.show()"
   ]
  },
  {
   "cell_type": "code",
   "execution_count": null,
   "id": "7e4907c3",
   "metadata": {},
   "outputs": [],
   "source": [
    "# Import Libraries\n",
    "import seaborn as sns\n",
    "import numpy\n",
    "import matplotlib.pyplot as plt\n",
    "# Load Data\n",
    "\n",
    "kashti=sns.load_dataset(\"titanic\")\n",
    "kashti\n",
    "# Draw a Line Plot\n",
    "sns.barplot(x=\"class\", y=\"fare\", hue=\"sex\", data=kashti, estimator=mean, saturation=1)\n",
    "plt.show()"
   ]
  },
  {
   "cell_type": "code",
   "execution_count": null,
   "id": "ced33e2b",
   "metadata": {
    "scrolled": true
   },
   "outputs": [],
   "source": [
    "# Import Libraries\n",
    "import seaborn as sns\n",
    "import numpy\n",
    "import matplotlib.pyplot as plt\n",
    "# Load Data\n",
    "\n",
    "kashti=sns.load_dataset(\"titanic\")\n",
    "kashti\n",
    "# Draw a Line Plot\n",
    "sns.barplot(x=\"class\", y=\"fare\", hue=\"sex\", data=kashti, estimator=mean, saturation=2)\n",
    "plt.show()"
   ]
  },
  {
   "cell_type": "code",
   "execution_count": null,
   "id": "0bf2c8a0",
   "metadata": {
    "scrolled": true
   },
   "outputs": [],
   "source": [
    "# Horizontal Plot\n",
    "# Import Libraries\n",
    "import seaborn as sns\n",
    "import numpy\n",
    "import matplotlib.pyplot as plt\n",
    "# Load Data\n",
    "kashti=sns.load_dataset(\"titanic\")\n",
    "kashti\n",
    "# Draw a Line Plot\n",
    "sns.barplot(x=\"fare\", y=\"class\", hue=\"sex\", data=kashti, estimator=mean, saturation=2)\n",
    "plt.show()"
   ]
  },
  {
   "cell_type": "code",
   "execution_count": null,
   "id": "43ede864",
   "metadata": {},
   "outputs": [],
   "source": [
    "# Import the required Library\n",
    "import seaborn as sns\n",
    "import matplotlib.pyplot as plt\n",
    "# read the titanic.csv file from seaborn library\n",
    "kashti=sns.load_dataset(\"titanic\")\n",
    "sns.barplot(x=\"class\", y=\"fare\", data=kashti, linewidth=5, facecolor=(1,1,1,0), errcolor=\".2\",edgecolor=\".2\")\n"
   ]
  },
  {
   "cell_type": "code",
   "execution_count": null,
   "id": "c88adce3",
   "metadata": {},
   "outputs": [],
   "source": [
    "# Import the required Library\n",
    "import seaborn as sns\n",
    "import matplotlib.pyplot as plt\n",
    "# read the titanic.csv file from seaborn library\n",
    "kashti=sns.load_dataset(\"titanic\")\n",
    "sns.barplot(x=\"class\", y=\"fare\", data=kashti, linewidth=3, facecolor=(1,1,1,0), errcolor=\".2\",edgecolor=\".2\")"
   ]
  },
  {
   "cell_type": "code",
   "execution_count": null,
   "id": "845047dd",
   "metadata": {},
   "outputs": [],
   "source": [
    "# Import the required Library\n",
    "import seaborn as sns\n",
    "import matplotlib.pyplot as plt\n",
    "# read the titanic.csv file from seaborn library\n",
    "kashti=sns.load_dataset(\"titanic\")\n",
    "sns.barplot(x=\"class\", y=\"fare\", data=kashti, linewidth=3, facecolor=(1,1,1,0), errcolor=\"0\",edgecolor=\".2\")"
   ]
  },
  {
   "cell_type": "code",
   "execution_count": null,
   "id": "e5942acd",
   "metadata": {},
   "outputs": [],
   "source": [
    "# Import the required Library\n",
    "import seaborn as sns\n",
    "import matplotlib.pyplot as plt\n",
    "# read the titanic.csv file from seaborn library\n",
    "kashti=sns.load_dataset(\"titanic\")\n",
    "sns.barplot(x=\"class\", y=\"fare\", data=kashti, linewidth=3, facecolor=(1,1,1,0), errcolor=\"1\",edgecolor=\".2\")"
   ]
  },
  {
   "cell_type": "code",
   "execution_count": null,
   "id": "d5333ffa",
   "metadata": {},
   "outputs": [],
   "source": [
    "# Import the required Library\n",
    "import seaborn as sns\n",
    "import matplotlib.pyplot as plt\n",
    "# read the titanic.csv file from seaborn library\n",
    "kashti=sns.load_dataset(\"titanic\")\n",
    "sns.barplot(x=\"class\", y=\"fare\", data=kashti, linewidth=3, facecolor=(0.1,0.3,0.3,0.5), errcolor=\"1\",edgecolor=\".2\")"
   ]
  },
  {
   "cell_type": "markdown",
   "id": "c78499ec",
   "metadata": {},
   "source": [
    "## Boxplot"
   ]
  },
  {
   "cell_type": "code",
   "execution_count": null,
   "id": "746fd38c",
   "metadata": {},
   "outputs": [],
   "source": [
    "# Import Library\n",
    "import seaborn\n",
    "# Canvas (Baloon Board)\n",
    "seaborn.set(style=\"whitegrid\")\n",
    "# Load Data\n",
    "kashti=seaborn.load_dataset(\"titanic\")\n",
    "seaborn.boxplot(x=\"class\",y=\"fare\", data=kashti)"
   ]
  },
  {
   "cell_type": "code",
   "execution_count": null,
   "id": "5ad240d0",
   "metadata": {},
   "outputs": [],
   "source": [
    "# Import Library\n",
    "import seaborn\n",
    "# Canvas (Baloon Board)\n",
    "seaborn.set(style=\"darkgrid\")\n",
    "# Load Data\n",
    "kashti=seaborn.load_dataset(\"titanic\")\n",
    "seaborn.boxplot(x=\"class\",\n",
    "                y=\"fare\", \n",
    "                data=kashti)"
   ]
  },
  {
   "cell_type": "code",
   "execution_count": null,
   "id": "e87c1157",
   "metadata": {},
   "outputs": [],
   "source": [
    "import seaborn\n",
    "seaborn.set(style='whitegrid')\n",
    "df=seaborn.load_dataset('titanic')\n",
    "df"
   ]
  },
  {
   "cell_type": "code",
   "execution_count": null,
   "id": "f06ea331",
   "metadata": {},
   "outputs": [],
   "source": [
    "import seaborn\n",
    "seaborn.set(style='whitegrid')\n",
    "df=seaborn.load_dataset('tips')\n",
    "df"
   ]
  },
  {
   "cell_type": "code",
   "execution_count": null,
   "id": "c5651063",
   "metadata": {},
   "outputs": [],
   "source": [
    "weight=input(\"enter your weight\")"
   ]
  },
  {
   "cell_type": "code",
   "execution_count": null,
   "id": "5df679ed",
   "metadata": {},
   "outputs": [],
   "source": [
    "weight=float(weight)"
   ]
  },
  {
   "cell_type": "code",
   "execution_count": null,
   "id": "f7cc01c1",
   "metadata": {},
   "outputs": [],
   "source": [
    "height=input(\"enter your height\")"
   ]
  },
  {
   "cell_type": "code",
   "execution_count": null,
   "id": "1aa33012",
   "metadata": {},
   "outputs": [],
   "source": [
    "height=float(height)"
   ]
  },
  {
   "cell_type": "code",
   "execution_count": null,
   "id": "0b75fd9d",
   "metadata": {},
   "outputs": [],
   "source": [
    "name=input(\"your name please? \")"
   ]
  },
  {
   "cell_type": "code",
   "execution_count": null,
   "id": "f08520d1",
   "metadata": {},
   "outputs": [],
   "source": [
    "BMI=weight/height**2"
   ]
  },
  {
   "cell_type": "code",
   "execution_count": null,
   "id": "09a6282e",
   "metadata": {
    "scrolled": true
   },
   "outputs": [],
   "source": [
    "print(\"your name is \",name ,\"and BMI is ,\",BMI)"
   ]
  },
  {
   "cell_type": "markdown",
   "id": "e029e3ca",
   "metadata": {},
   "source": [
    "## Assignment_1"
   ]
  },
  {
   "cell_type": "markdown",
   "id": "d89ea615",
   "metadata": {},
   "source": [
    "# Box_plot"
   ]
  },
  {
   "cell_type": "code",
   "execution_count": null,
   "id": "479fe0ae",
   "metadata": {},
   "outputs": [],
   "source": [
    "import pandas as pd\n",
    "df=pd.read_csv(\"data1.csv\")\n",
    "df"
   ]
  },
  {
   "cell_type": "code",
   "execution_count": null,
   "id": "1781d757",
   "metadata": {},
   "outputs": [],
   "source": [
    "import pandas as pd\n",
    "import seaborn as sns\n",
    "df=pd.read_csv(\"data1.csv\")\n",
    "sns.set(style='whitegrid')\n",
    "sns.boxplot(x='Location', y='Age (years)-Float/Int', data=df, saturation=1)"
   ]
  },
  {
   "cell_type": "code",
   "execution_count": null,
   "id": "9950a6fc",
   "metadata": {},
   "outputs": [],
   "source": [
    "import pandas as pd\n",
    "import numpy\n",
    "import matplotlib.pyplot as plt\n",
    "import seaborn as sns\n",
    "df=pd.read_csv(\"data1.csv\")\n",
    "sns.set(style='whitegrid')\n",
    "sns.boxplot(x='Location', y='Age (years)-Float/Int', hue='Which mobile sim do you use',data=df, saturation=1)"
   ]
  },
  {
   "cell_type": "code",
   "execution_count": null,
   "id": "bbefb0c7",
   "metadata": {},
   "outputs": [],
   "source": [
    "import pandas as pd\n",
    "import numpy\n",
    "import matplotlib.pyplot as plt\n",
    "import seaborn as sns\n",
    "df=pd.read_csv(\"data1.csv\")\n",
    "sns.set(style='whitegrid')\n",
    "sns.boxplot(x='Location', y='Age (years)-Float/Int', hue='Which mobile sim do you use', palette='Set2', data=df, saturation=1)"
   ]
  },
  {
   "cell_type": "code",
   "execution_count": null,
   "id": "bd1f240e",
   "metadata": {},
   "outputs": [],
   "source": [
    "import pandas as pd\n",
    "import numpy\n",
    "import matplotlib.pyplot as plt\n",
    "import seaborn as sns\n",
    "df=pd.read_csv(\"data1.csv\")\n",
    "sns.set(style='whitegrid')\n",
    "sns.boxplot(x='Location', y='Age (years)-Float/Int', hue='Which mobile sim do you use', palette='Set2', dodge=False, data=df, saturation=1)"
   ]
  },
  {
   "cell_type": "code",
   "execution_count": null,
   "id": "d73e9f7a",
   "metadata": {},
   "outputs": [],
   "source": [
    "import pandas as pd\n",
    "import seaborn as sns\n",
    "df=pd.read_csv(\"data1.csv\")\n",
    "sns.set(style='whitegrid')\n",
    "sns.boxplot(x='Gender', y='Age (years)-Float/Int', data=df, saturation=1, color=)"
   ]
  },
  {
   "cell_type": "code",
   "execution_count": null,
   "id": "0f5f66ae",
   "metadata": {},
   "outputs": [],
   "source": [
    "import pandas as pd\n",
    "import numpy\n",
    "import seaborn as sns\n",
    "df=pd.read_csv(\"data1.csv\")\n",
    "df.head()"
   ]
  },
  {
   "cell_type": "code",
   "execution_count": null,
   "id": "a996c1af",
   "metadata": {},
   "outputs": [],
   "source": [
    "import pandas as pd\n",
    "import numpy\n",
    "import seaborn as sns\n",
    "df=pd.read_csv(\"data1.csv\")\n",
    "sns.set(style='whitegrid')\n",
    "sns.boxplot(x='Gender', y='Age (years)-Float/Int', data=df, saturation=1, color='red',showmeans=True,meanprops={'marker':'*','markersize':'12','markeredgecolor':'black'})"
   ]
  },
  {
   "cell_type": "code",
   "execution_count": null,
   "id": "e71c437c",
   "metadata": {},
   "outputs": [],
   "source": [
    "import pandas as pd\n",
    "import numpy\n",
    "import seaborn as sns\n",
    "import matplotlib.pyplot as plt\n",
    "df=pd.read_csv(\"data1.csv\")\n",
    "sns.set(style='whitegrid')\n",
    "sns.boxplot(x='Gender', y='Age (years)-Float/Int', data=df, saturation=1, color='red',showmeans=True,meanprops={'marker':'*','markersize':'12','markeredgecolor':'black'})\n",
    "# Show Label\n",
    "plt.xlabel('gender of participant')\n",
    "plt.ylabel('Age of participant')\n",
    "plt.title('Plot of Assignment Data')\n",
    "plt.show()"
   ]
  },
  {
   "cell_type": "code",
   "execution_count": null,
   "id": "5ece32c7",
   "metadata": {},
   "outputs": [],
   "source": [
    "pip install plotly"
   ]
  },
  {
   "cell_type": "code",
   "execution_count": null,
   "id": "40607205",
   "metadata": {},
   "outputs": [],
   "source": [
    "import plotly.express as px\n",
    "\n",
    "df = px.data.iris()\n",
    "fig = px.scatter(df, x=\"sepal_width\", y=\"sepal_length\", color=\"species\", title=\"A Plotly Express Figure\")\n",
    "\n",
    "# If you print the figure, you'll see that it's just a regular figure with data and layout\n",
    "# print(fig)\n",
    "\n",
    "fig.show()"
   ]
  },
  {
   "cell_type": "code",
   "execution_count": null,
   "id": "1bc722da",
   "metadata": {},
   "outputs": [],
   "source": [
    "import plotly.express as px\n",
    "\n",
    "df = px.data.election()\n",
    "geojson = px.data.election_geojson()\n",
    "\n",
    "fig = px.choropleth_mapbox(df, geojson=geojson, color=\"Bergeron\",\n",
    "                           locations=\"district\", featureidkey=\"properties.district\",\n",
    "                           center={\"lat\": 45.5517, \"lon\": -73.7073},\n",
    "                           mapbox_style=\"carto-positron\", zoom=9)\n",
    "fig.update_layout(margin={\"r\":0,\"t\":0,\"l\":0,\"b\":0})\n",
    "fig.show()"
   ]
  },
  {
   "cell_type": "code",
   "execution_count": null,
   "id": "dba4e4c0",
   "metadata": {},
   "outputs": [],
   "source": [
    "import plotly.express as px\n",
    "df = px.data.gapminder().query(\"year == 2007\").query(\"continent == 'Americas'\")\n",
    "df"
   ]
  },
  {
   "cell_type": "code",
   "execution_count": null,
   "id": "415b9abf",
   "metadata": {},
   "outputs": [],
   "source": [
    "import plotly.express as px\n",
    "df = px.data.gapminder().query(\"year == 2007\").query(\"continent == 'Americas'\")\n",
    "fig = px.pie(df, values='pop', names='country',\n",
    "             title='Population of American continent',\n",
    "             hover_data=['lifeExp'], labels={'lifeExp':'life expectancy'})\n",
    "fig.update_traces(textposition='inside', textinfo='percent+label')\n",
    "fig.show()"
   ]
  },
  {
   "cell_type": "code",
   "execution_count": null,
   "id": "ecb24de7",
   "metadata": {},
   "outputs": [],
   "source": [
    "import pandas as pd\n",
    "# import seaborn as sns\n",
    "df1=pd.read_csv(\"data1.csv\")\n",
    "# sns.set(style='whitegrid')\n",
    "# sns.boxplot(x='Location', y='Age (years)-Float/Int', data=df, saturation=1)import plotly.express as px\n",
    "df = px.data.gapminder().query(\"year == 2007\").query(\"continent == 'Americas'\")\n",
    "fig = px.pie(df, values='pop', names='country',\n",
    "             title='Population of American continent',\n",
    "             hover_data=['lifeExp'], labels={'lifeExp':'life expectancy'})\n",
    "fig.update_traces(textposition='inside', textinfo='percent+label')\n",
    "fig.show()"
   ]
  },
  {
   "cell_type": "markdown",
   "id": "2aa77d10",
   "metadata": {},
   "source": [
    "# Day-7 Numpy (Numerical Python)\n",
    "* core library of python\n"
   ]
  },
  {
   "cell_type": "code",
   "execution_count": null,
   "id": "d3b8af8b",
   "metadata": {},
   "outputs": [],
   "source": [
    "import numpy as np\n",
    "a=np.array([5,4,7,7,8])\n",
    "a"
   ]
  },
  {
   "cell_type": "code",
   "execution_count": null,
   "id": "a1165269",
   "metadata": {},
   "outputs": [],
   "source": [
    "type(a)"
   ]
  },
  {
   "cell_type": "code",
   "execution_count": null,
   "id": "bbd7e2b7",
   "metadata": {},
   "outputs": [],
   "source": [
    "# List of lists\n",
    "b=np.array([[5,7,10],[10,15,20],[8,10,2]])\n",
    "b"
   ]
  },
  {
   "cell_type": "markdown",
   "id": "9ad4c7ad",
   "metadata": {},
   "source": [
    "## 1-Dimensional Array (vector)"
   ]
  },
  {
   "cell_type": "code",
   "execution_count": null,
   "id": "25a8d07c",
   "metadata": {},
   "outputs": [],
   "source": [
    "import numpy as np\n",
    "a=np.array([10,12,14])\n",
    "a"
   ]
  },
  {
   "cell_type": "code",
   "execution_count": null,
   "id": "c045e6cb",
   "metadata": {},
   "outputs": [],
   "source": [
    "type(a)"
   ]
  },
  {
   "cell_type": "code",
   "execution_count": null,
   "id": "bdb6e598",
   "metadata": {},
   "outputs": [],
   "source": [
    "len(a)"
   ]
  },
  {
   "cell_type": "code",
   "execution_count": null,
   "id": "e8de52cd",
   "metadata": {},
   "outputs": [],
   "source": [
    "a[1]"
   ]
  },
  {
   "cell_type": "code",
   "execution_count": null,
   "id": "6cb91ee3",
   "metadata": {},
   "outputs": [],
   "source": [
    "a[0:2]"
   ]
  },
  {
   "cell_type": "code",
   "execution_count": null,
   "id": "c58ee549",
   "metadata": {},
   "outputs": [],
   "source": [
    "a=[0:]"
   ]
  },
  {
   "cell_type": "markdown",
   "id": "9c09dcc7",
   "metadata": {},
   "source": [
    "## 2-Dimensional Array\n",
    "* ndarray class is used to represent matrices and vectors"
   ]
  },
  {
   "cell_type": "code",
   "execution_count": 14,
   "id": "ab0bdd72",
   "metadata": {},
   "outputs": [
    {
     "data": {
      "text/plain": [
       "array([[ 5,  7, 10],\n",
       "       [10, 15, 20],\n",
       "       [ 8, 10,  2]])"
      ]
     },
     "execution_count": 14,
     "metadata": {},
     "output_type": "execute_result"
    }
   ],
   "source": [
    "# List of lists\n",
    "import numpy as np\n",
    "b=np.array([[5,7,10],[10,15,20],[8,10,2]])\n",
    "b"
   ]
  },
  {
   "cell_type": "code",
   "execution_count": 15,
   "id": "73cb34a5",
   "metadata": {},
   "outputs": [
    {
     "data": {
      "text/plain": [
       "numpy.ndarray"
      ]
     },
     "execution_count": 15,
     "metadata": {},
     "output_type": "execute_result"
    }
   ],
   "source": [
    "type(b)"
   ]
  },
  {
   "cell_type": "code",
   "execution_count": 16,
   "id": "6e3363f6",
   "metadata": {},
   "outputs": [
    {
     "data": {
      "text/plain": [
       "3"
      ]
     },
     "execution_count": 16,
     "metadata": {},
     "output_type": "execute_result"
    }
   ],
   "source": [
    "len(b)"
   ]
  },
  {
   "cell_type": "code",
   "execution_count": 26,
   "id": "bb891818",
   "metadata": {},
   "outputs": [
    {
     "data": {
      "text/plain": [
       "[0]"
      ]
     },
     "execution_count": 26,
     "metadata": {},
     "output_type": "execute_result"
    }
   ],
   "source": [
    "b[0:]"
   ]
  },
  {
   "cell_type": "markdown",
   "id": "db285b55",
   "metadata": {},
   "source": [
    "## 3-Dimensional Array (term tensor is also used)"
   ]
  },
  {
   "cell_type": "markdown",
   "id": "741fc290",
   "metadata": {},
   "source": [
    "### Creation of Array (1-D)"
   ]
  },
  {
   "cell_type": "code",
   "execution_count": 29,
   "id": "6dabb079",
   "metadata": {},
   "outputs": [
    {
     "data": {
      "text/plain": [
       "array([0., 0.])"
      ]
     },
     "execution_count": 29,
     "metadata": {},
     "output_type": "execute_result"
    }
   ],
   "source": [
    "import numpy as np\n",
    "b=np.zeros(2)\n",
    "b"
   ]
  },
  {
   "cell_type": "code",
   "execution_count": 31,
   "id": "2d9a379c",
   "metadata": {},
   "outputs": [
    {
     "data": {
      "text/plain": [
       "array([1., 1., 1., 1., 1., 1.])"
      ]
     },
     "execution_count": 31,
     "metadata": {},
     "output_type": "execute_result"
    }
   ],
   "source": [
    "c=np.ones(6)\n",
    "c"
   ]
  },
  {
   "cell_type": "code",
   "execution_count": 32,
   "id": "9db22079",
   "metadata": {},
   "outputs": [
    {
     "data": {
      "text/plain": [
       "array([1., 1., 1., 1., 1., 1.])"
      ]
     },
     "execution_count": 32,
     "metadata": {},
     "output_type": "execute_result"
    }
   ],
   "source": [
    "d=np.empty(6)\n",
    "d"
   ]
  },
  {
   "cell_type": "code",
   "execution_count": 34,
   "id": "25756e1c",
   "metadata": {},
   "outputs": [
    {
     "data": {
      "text/plain": [
       "array([ 2,  3,  4,  5,  6,  7,  8,  9, 10, 11, 12, 13, 14, 15, 16, 17, 18,\n",
       "       19])"
      ]
     },
     "execution_count": 34,
     "metadata": {},
     "output_type": "execute_result"
    }
   ],
   "source": [
    "# with range of elements\n",
    "e=np.arange(2,20)\n",
    "e"
   ]
  },
  {
   "cell_type": "code",
   "execution_count": 35,
   "id": "597676e4",
   "metadata": {},
   "outputs": [
    {
     "data": {
      "text/plain": [
       "array([ 2,  6, 10, 14, 18])"
      ]
     },
     "execution_count": 35,
     "metadata": {},
     "output_type": "execute_result"
    }
   ],
   "source": [
    "# with range and interval\n",
    "f=np.arange(2,20,4)\n",
    "f"
   ]
  },
  {
   "cell_type": "code",
   "execution_count": 36,
   "id": "519b5cc2",
   "metadata": {},
   "outputs": [
    {
     "data": {
      "text/plain": [
       "array([ 5.  , 11.25, 17.5 , 23.75, 30.  ])"
      ]
     },
     "execution_count": 36,
     "metadata": {},
     "output_type": "execute_result"
    }
   ],
   "source": [
    "# linsearly spaced array\n",
    "h=np.linspace(5,30,num=5) # it will give 5 numbers\n",
    "h"
   ]
  },
  {
   "cell_type": "code",
   "execution_count": 37,
   "id": "3044ae27",
   "metadata": {},
   "outputs": [
    {
     "data": {
      "text/plain": [
       "array([1, 1, 1, 1, 1], dtype=int8)"
      ]
     },
     "execution_count": 37,
     "metadata": {},
     "output_type": "execute_result"
    }
   ],
   "source": [
    "# Specific data types in array\n",
    "i=np.ones(5,dtype=np.int8)\n",
    "i"
   ]
  },
  {
   "cell_type": "code",
   "execution_count": 38,
   "id": "5f2f1f7f",
   "metadata": {},
   "outputs": [
    {
     "data": {
      "text/plain": [
       "array([1., 1., 1.])"
      ]
     },
     "execution_count": 38,
     "metadata": {},
     "output_type": "execute_result"
    }
   ],
   "source": [
    "j=np.ones(3,dtype=np.float64)\n",
    "j"
   ]
  },
  {
   "cell_type": "markdown",
   "id": "99dab28c",
   "metadata": {},
   "source": [
    "### Creation of Array (2-D)"
   ]
  },
  {
   "cell_type": "code",
   "execution_count": 45,
   "id": "1fb41084",
   "metadata": {},
   "outputs": [
    {
     "data": {
      "text/plain": [
       "array([[0., 0., 0., 0.],\n",
       "       [0., 0., 0., 0.],\n",
       "       [0., 0., 0., 0.]])"
      ]
     },
     "execution_count": 45,
     "metadata": {},
     "output_type": "execute_result"
    }
   ],
   "source": [
    "import numpy as np\n",
    "x=np.zeros((3,4))\n",
    "x"
   ]
  },
  {
   "cell_type": "code",
   "execution_count": 46,
   "id": "e3719fab",
   "metadata": {},
   "outputs": [
    {
     "data": {
      "text/plain": [
       "array([[1., 1., 1., 1., 1., 1.],\n",
       "       [1., 1., 1., 1., 1., 1.],\n",
       "       [1., 1., 1., 1., 1., 1.],\n",
       "       [1., 1., 1., 1., 1., 1.],\n",
       "       [1., 1., 1., 1., 1., 1.]])"
      ]
     },
     "execution_count": 46,
     "metadata": {},
     "output_type": "execute_result"
    }
   ],
   "source": [
    "np.ones((5,6))"
   ]
  },
  {
   "cell_type": "code",
   "execution_count": 48,
   "id": "db64cee0",
   "metadata": {},
   "outputs": [
    {
     "data": {
      "text/plain": [
       "array([[1., 1., 1., 1., 1., 1.],\n",
       "       [1., 1., 1., 1., 1., 1.],\n",
       "       [1., 1., 1., 1., 1., 1.],\n",
       "       [1., 1., 1., 1., 1., 1.],\n",
       "       [1., 1., 1., 1., 1., 1.]])"
      ]
     },
     "execution_count": 48,
     "metadata": {},
     "output_type": "execute_result"
    }
   ],
   "source": [
    "b=np.empty((5,6))\n",
    "b"
   ]
  },
  {
   "cell_type": "code",
   "execution_count": 53,
   "id": "ac586184",
   "metadata": {},
   "outputs": [
    {
     "data": {
      "text/plain": [
       "array([[1., 1., 1., 1., 1., 1.],\n",
       "       [1., 1., 1., 1., 1., 1.]])"
      ]
     },
     "execution_count": 53,
     "metadata": {},
     "output_type": "execute_result"
    }
   ],
   "source": [
    "b[0:2]"
   ]
  },
  {
   "cell_type": "markdown",
   "id": "817ed06d",
   "metadata": {},
   "source": [
    "### Creation of Array (3-D)"
   ]
  },
  {
   "cell_type": "code",
   "execution_count": 57,
   "id": "d4f02f27",
   "metadata": {},
   "outputs": [
    {
     "data": {
      "text/plain": [
       "array([[[ 0,  1,  2,  3],\n",
       "        [ 4,  5,  6,  7],\n",
       "        [ 8,  9, 10, 11]],\n",
       "\n",
       "       [[12, 13, 14, 15],\n",
       "        [16, 17, 18, 19],\n",
       "        [20, 21, 22, 23]],\n",
       "\n",
       "       [[24, 25, 26, 27],\n",
       "        [28, 29, 30, 31],\n",
       "        [32, 33, 34, 35]]])"
      ]
     },
     "execution_count": 57,
     "metadata": {},
     "output_type": "execute_result"
    }
   ],
   "source": [
    "# Making and Reshaping of 3-D Array\n",
    "c=np.arange(36).reshape(3,3,4)\n",
    "c"
   ]
  },
  {
   "cell_type": "code",
   "execution_count": 58,
   "id": "303b5cd3",
   "metadata": {},
   "outputs": [
    {
     "data": {
      "text/plain": [
       "numpy.ndarray"
      ]
     },
     "execution_count": 58,
     "metadata": {},
     "output_type": "execute_result"
    }
   ],
   "source": [
    "type(c)"
   ]
  },
  {
   "cell_type": "code",
   "execution_count": 59,
   "id": "d53bc4e0",
   "metadata": {},
   "outputs": [
    {
     "data": {
      "text/plain": [
       "3"
      ]
     },
     "execution_count": 59,
     "metadata": {},
     "output_type": "execute_result"
    }
   ],
   "source": [
    "len(c)"
   ]
  },
  {
   "cell_type": "code",
   "execution_count": 77,
   "id": "bedb129a",
   "metadata": {},
   "outputs": [
    {
     "data": {
      "text/plain": [
       "array([[0, 1, 2, 3]])"
      ]
     },
     "execution_count": 77,
     "metadata": {},
     "output_type": "execute_result"
    }
   ],
   "source": [
    "#  acessing of first row first matrix\n",
    "c[0:1,0]"
   ]
  },
  {
   "cell_type": "code",
   "execution_count": 75,
   "id": "c62542c4",
   "metadata": {},
   "outputs": [
    {
     "data": {
      "text/plain": [
       "array([[[ 0,  1,  2,  3],\n",
       "        [ 4,  5,  6,  7]],\n",
       "\n",
       "       [[12, 13, 14, 15],\n",
       "        [16, 17, 18, 19]],\n",
       "\n",
       "       [[24, 25, 26, 27],\n",
       "        [28, 29, 30, 31]]])"
      ]
     },
     "execution_count": 75,
     "metadata": {},
     "output_type": "execute_result"
    }
   ],
   "source": [
    "#  acessing first two rows of all matrices\n",
    "c[0:3,0:2]"
   ]
  },
  {
   "cell_type": "code",
   "execution_count": 87,
   "id": "76de3efa",
   "metadata": {},
   "outputs": [
    {
     "data": {
      "text/plain": [
       "array([[[ 0,  1,  2,  3],\n",
       "        [ 4,  5,  6,  7],\n",
       "        [ 8,  9, 10, 11]]])"
      ]
     },
     "execution_count": 87,
     "metadata": {},
     "output_type": "execute_result"
    }
   ],
   "source": [
    "# acessing first matrix\n",
    "c[0:1]\n"
   ]
  },
  {
   "cell_type": "markdown",
   "id": "69a60f0d",
   "metadata": {},
   "source": [
    "# Day-7 numpy practice session"
   ]
  },
  {
   "cell_type": "code",
   "execution_count": 1,
   "id": "9b0590fe",
   "metadata": {},
   "outputs": [
    {
     "data": {
      "text/plain": [
       "array(['pakora', 'samosa', 'raita'], dtype='<U6')"
      ]
     },
     "execution_count": 1,
     "metadata": {},
     "output_type": "execute_result"
    }
   ],
   "source": [
    "# 1-D array\n",
    "import numpy as np\n",
    "food=np.array(['pakora','samosa','raita'])\n",
    "food"
   ]
  },
  {
   "cell_type": "code",
   "execution_count": 2,
   "id": "cd944b7b",
   "metadata": {},
   "outputs": [
    {
     "data": {
      "text/plain": [
       "numpy.ndarray"
      ]
     },
     "execution_count": 2,
     "metadata": {},
     "output_type": "execute_result"
    }
   ],
   "source": [
    "type(food)"
   ]
  },
  {
   "cell_type": "code",
   "execution_count": 5,
   "id": "af2bbfce",
   "metadata": {},
   "outputs": [
    {
     "data": {
      "text/plain": [
       "array([5, 5, 5])"
      ]
     },
     "execution_count": 5,
     "metadata": {},
     "output_type": "execute_result"
    }
   ],
   "source": [
    "price=np.array([5,5,5])\n",
    "price"
   ]
  },
  {
   "cell_type": "code",
   "execution_count": 6,
   "id": "5c75448f",
   "metadata": {},
   "outputs": [
    {
     "data": {
      "text/plain": [
       "numpy.ndarray"
      ]
     },
     "execution_count": 6,
     "metadata": {},
     "output_type": "execute_result"
    }
   ],
   "source": [
    "type(price)"
   ]
  },
  {
   "cell_type": "code",
   "execution_count": 7,
   "id": "5052aac7",
   "metadata": {},
   "outputs": [
    {
     "data": {
      "text/plain": [
       "3"
      ]
     },
     "execution_count": 7,
     "metadata": {},
     "output_type": "execute_result"
    }
   ],
   "source": [
    "len(food)"
   ]
  },
  {
   "cell_type": "code",
   "execution_count": 8,
   "id": "d1e2ef38",
   "metadata": {},
   "outputs": [
    {
     "data": {
      "text/plain": [
       "3"
      ]
     },
     "execution_count": 8,
     "metadata": {},
     "output_type": "execute_result"
    }
   ],
   "source": [
    "len(price)"
   ]
  },
  {
   "cell_type": "code",
   "execution_count": 9,
   "id": "14722a2d",
   "metadata": {},
   "outputs": [
    {
     "data": {
      "text/plain": [
       "array([5, 5, 5])"
      ]
     },
     "execution_count": 9,
     "metadata": {},
     "output_type": "execute_result"
    }
   ],
   "source": [
    "price[0:]"
   ]
  },
  {
   "cell_type": "code",
   "execution_count": 10,
   "id": "2baaf6c5",
   "metadata": {},
   "outputs": [
    {
     "data": {
      "text/plain": [
       "5.0"
      ]
     },
     "execution_count": 10,
     "metadata": {},
     "output_type": "execute_result"
    }
   ],
   "source": [
    "price.mean()"
   ]
  },
  {
   "cell_type": "code",
   "execution_count": 11,
   "id": "db083504",
   "metadata": {},
   "outputs": [
    {
     "data": {
      "text/plain": [
       "array([1., 1., 1., 1., 1., 1., 1., 1., 1., 1.])"
      ]
     },
     "execution_count": 11,
     "metadata": {},
     "output_type": "execute_result"
    }
   ],
   "source": [
    "np.ones(10)"
   ]
  },
  {
   "cell_type": "code",
   "execution_count": 12,
   "id": "cebd32e7",
   "metadata": {},
   "outputs": [
    {
     "data": {
      "text/plain": [
       "array([0., 0., 0., 0., 0., 0., 0., 0., 0., 0.])"
      ]
     },
     "execution_count": 12,
     "metadata": {},
     "output_type": "execute_result"
    }
   ],
   "source": [
    "np.zeros(10)"
   ]
  },
  {
   "cell_type": "code",
   "execution_count": 13,
   "id": "e6f0e799",
   "metadata": {},
   "outputs": [
    {
     "data": {
      "text/plain": [
       "array([ 0,  1,  2,  3,  4,  5,  6,  7,  8,  9, 10, 11, 12, 13, 14, 15, 16,\n",
       "       17, 18, 19])"
      ]
     },
     "execution_count": 13,
     "metadata": {},
     "output_type": "execute_result"
    }
   ],
   "source": [
    "np.arange(20)"
   ]
  },
  {
   "cell_type": "code",
   "execution_count": 15,
   "id": "80e8696b",
   "metadata": {},
   "outputs": [
    {
     "data": {
      "text/plain": [
       "array([10, 11, 12, 13, 14, 15, 16, 17, 18, 19])"
      ]
     },
     "execution_count": 15,
     "metadata": {},
     "output_type": "execute_result"
    }
   ],
   "source": [
    "np.arange(10,20)"
   ]
  },
  {
   "cell_type": "code",
   "execution_count": 16,
   "id": "ba4325b9",
   "metadata": {},
   "outputs": [
    {
     "data": {
      "text/plain": [
       "array([10, 14, 18])"
      ]
     },
     "execution_count": 16,
     "metadata": {},
     "output_type": "execute_result"
    }
   ],
   "source": [
    "np.arange(10,20,4)"
   ]
  },
  {
   "cell_type": "code",
   "execution_count": 17,
   "id": "acf9be6e",
   "metadata": {},
   "outputs": [
    {
     "data": {
      "text/plain": [
       "array([ 5, 10, 15, 20, 25, 30, 35, 40, 45])"
      ]
     },
     "execution_count": 17,
     "metadata": {},
     "output_type": "execute_result"
    }
   ],
   "source": [
    "# table of 5\n",
    "np.arange(5,50,5)"
   ]
  },
  {
   "cell_type": "code",
   "execution_count": 19,
   "id": "f6e04194",
   "metadata": {},
   "outputs": [
    {
     "data": {
      "text/plain": [
       "array([  1.,  12.,  23.,  34.,  45.,  56.,  67.,  78.,  89., 100.])"
      ]
     },
     "execution_count": 19,
     "metadata": {},
     "output_type": "execute_result"
    }
   ],
   "source": [
    "np.linspace(1,100, num=10)"
   ]
  },
  {
   "cell_type": "code",
   "execution_count": 21,
   "id": "d66ef4f2",
   "metadata": {},
   "outputs": [
    {
     "data": {
      "text/plain": [
       "array([1, 1, 1, 1, 1, 1, 1, 1, 1, 1, 1, 1, 1, 1, 1, 1, 1, 1, 1, 1, 1, 1,\n",
       "       1, 1, 1, 1, 1, 1, 1, 1, 1, 1, 1, 1, 1, 1, 1, 1, 1, 1, 1, 1, 1, 1,\n",
       "       1, 1, 1, 1, 1, 1, 1, 1, 1, 1, 1, 1, 1, 1, 1, 1, 1, 1, 1, 1, 1, 1,\n",
       "       1, 1, 1, 1, 1, 1, 1, 1, 1, 1, 1, 1, 1, 1, 1, 1, 1, 1, 1, 1, 1, 1,\n",
       "       1, 1, 1, 1, 1, 1, 1, 1, 1, 1, 1, 1, 1, 1, 1, 1, 1, 1, 1, 1, 1, 1,\n",
       "       1, 1, 1, 1, 1, 1, 1, 1, 1, 1, 1, 1, 1, 1, 1, 1, 1, 1, 1, 1, 1, 1,\n",
       "       1, 1, 1, 1, 1, 1, 1, 1, 1, 1, 1, 1, 1, 1, 1, 1, 1, 1, 1, 1, 1, 1,\n",
       "       1, 1, 1, 1, 1, 1, 1, 1, 1, 1, 1, 1, 1, 1, 1, 1, 1, 1, 1, 1, 1, 1,\n",
       "       1, 1, 1, 1, 1, 1, 1, 1, 1, 1, 1, 1, 1, 1, 1, 1, 1, 1, 1, 1, 1, 1,\n",
       "       1, 1, 1, 1, 1, 1, 1, 1, 1, 1, 1, 1, 1, 1, 1, 1, 1, 1, 1, 1, 1, 1,\n",
       "       1, 1, 1, 1, 1, 1, 1, 1, 1, 1, 1, 1, 1, 1, 1, 1, 1, 1, 1, 1, 1, 1,\n",
       "       1, 1, 1, 1, 1, 1, 1, 1, 1, 1, 1, 1, 1, 1, 1, 1, 1, 1, 1, 1, 1, 1,\n",
       "       1, 1, 1, 1, 1, 1, 1, 1, 1, 1, 1, 1, 1, 1, 1, 1, 1, 1, 1, 1, 1, 1,\n",
       "       1, 1, 1, 1, 1, 1, 1, 1, 1, 1, 1, 1, 1, 1, 1, 1, 1, 1, 1, 1, 1, 1,\n",
       "       1, 1, 1, 1, 1, 1, 1, 1, 1, 1, 1, 1, 1, 1, 1, 1, 1, 1, 1, 1, 1, 1,\n",
       "       1, 1, 1, 1, 1, 1, 1, 1, 1, 1, 1, 1, 1, 1, 1, 1, 1, 1, 1, 1, 1, 1,\n",
       "       1, 1, 1, 1, 1, 1, 1, 1, 1, 1, 1, 1, 1, 1, 1, 1, 1, 1, 1, 1, 1, 1,\n",
       "       1, 1, 1, 1, 1, 1, 1, 1, 1, 1, 1, 1, 1, 1, 1, 1, 1, 1, 1, 1, 1, 1,\n",
       "       1, 1, 1, 1, 1, 1, 1, 1, 1, 1, 1, 1, 1, 1, 1, 1, 1, 1, 1, 1, 1, 1,\n",
       "       1, 1, 1, 1, 1, 1, 1, 1, 1, 1, 1, 1, 1, 1, 1, 1, 1, 1, 1, 1, 1, 1,\n",
       "       1, 1, 1, 1, 1, 1, 1, 1, 1, 1, 1, 1, 1, 1, 1, 1, 1, 1, 1, 1, 1, 1,\n",
       "       1, 1, 1, 1, 1, 1, 1, 1, 1, 1, 1, 1, 1, 1, 1, 1, 1, 1, 1, 1, 1, 1,\n",
       "       1, 1, 1, 1, 1, 1, 1, 1, 1, 1, 1, 1, 1, 1, 1, 1], dtype=int8)"
      ]
     },
     "execution_count": 21,
     "metadata": {},
     "output_type": "execute_result"
    }
   ],
   "source": [
    "np.ones(500,dtype=np.int8)"
   ]
  },
  {
   "cell_type": "code",
   "execution_count": 22,
   "id": "a6b19f82",
   "metadata": {},
   "outputs": [
    {
     "data": {
      "text/plain": [
       "array([1., 1., 1., 1., 1., 1., 1., 1., 1., 1., 1., 1., 1., 1., 1., 1., 1.,\n",
       "       1., 1., 1., 1., 1., 1., 1., 1., 1., 1., 1., 1., 1., 1., 1., 1., 1.,\n",
       "       1., 1., 1., 1., 1., 1., 1., 1., 1., 1., 1., 1., 1., 1., 1., 1., 1.,\n",
       "       1., 1., 1., 1., 1., 1., 1., 1., 1., 1., 1., 1., 1., 1., 1., 1., 1.,\n",
       "       1., 1., 1., 1., 1., 1., 1., 1., 1., 1., 1., 1., 1., 1., 1., 1., 1.,\n",
       "       1., 1., 1., 1., 1., 1., 1., 1., 1., 1., 1., 1., 1., 1., 1., 1., 1.,\n",
       "       1., 1., 1., 1., 1., 1., 1., 1., 1., 1., 1., 1., 1., 1., 1., 1., 1.,\n",
       "       1., 1., 1., 1., 1., 1., 1., 1., 1., 1., 1., 1., 1., 1., 1., 1., 1.,\n",
       "       1., 1., 1., 1., 1., 1., 1., 1., 1., 1., 1., 1., 1., 1., 1., 1., 1.,\n",
       "       1., 1., 1., 1., 1., 1., 1., 1., 1., 1., 1., 1., 1., 1., 1., 1., 1.,\n",
       "       1., 1., 1., 1., 1., 1., 1., 1., 1., 1., 1., 1., 1., 1., 1., 1., 1.,\n",
       "       1., 1., 1., 1., 1., 1., 1., 1., 1., 1., 1., 1., 1., 1., 1., 1., 1.,\n",
       "       1., 1., 1., 1., 1., 1., 1., 1., 1., 1., 1., 1., 1., 1., 1., 1., 1.,\n",
       "       1., 1., 1., 1., 1., 1., 1., 1., 1., 1., 1., 1., 1., 1., 1., 1., 1.,\n",
       "       1., 1., 1., 1., 1., 1., 1., 1., 1., 1., 1., 1., 1., 1., 1., 1., 1.,\n",
       "       1., 1., 1., 1., 1., 1., 1., 1., 1., 1., 1., 1., 1., 1., 1., 1., 1.,\n",
       "       1., 1., 1., 1., 1., 1., 1., 1., 1., 1., 1., 1., 1., 1., 1., 1., 1.,\n",
       "       1., 1., 1., 1., 1., 1., 1., 1., 1., 1., 1., 1., 1., 1., 1., 1., 1.,\n",
       "       1., 1., 1., 1., 1., 1., 1., 1., 1., 1., 1., 1., 1., 1., 1., 1., 1.,\n",
       "       1., 1., 1., 1., 1., 1., 1., 1., 1., 1., 1., 1., 1., 1., 1., 1., 1.,\n",
       "       1., 1., 1., 1., 1., 1., 1., 1., 1., 1., 1., 1., 1., 1., 1., 1., 1.,\n",
       "       1., 1., 1., 1., 1., 1., 1., 1., 1., 1., 1., 1., 1., 1., 1., 1., 1.,\n",
       "       1., 1., 1., 1., 1., 1., 1., 1., 1., 1., 1., 1., 1., 1., 1., 1., 1.,\n",
       "       1., 1., 1., 1., 1., 1., 1., 1., 1., 1., 1., 1., 1., 1., 1., 1., 1.,\n",
       "       1., 1., 1., 1., 1., 1., 1., 1., 1., 1., 1., 1., 1., 1., 1., 1., 1.,\n",
       "       1., 1., 1., 1., 1., 1., 1., 1., 1., 1., 1., 1., 1., 1., 1., 1., 1.,\n",
       "       1., 1., 1., 1., 1., 1., 1., 1., 1., 1., 1., 1., 1., 1., 1., 1., 1.,\n",
       "       1., 1., 1., 1., 1., 1., 1., 1., 1., 1., 1., 1., 1., 1., 1., 1., 1.,\n",
       "       1., 1., 1., 1., 1., 1., 1., 1., 1., 1., 1., 1., 1., 1., 1., 1., 1.,\n",
       "       1., 1., 1., 1., 1., 1., 1.])"
      ]
     },
     "execution_count": 22,
     "metadata": {},
     "output_type": "execute_result"
    }
   ],
   "source": [
    "np.ones(500,dtype=np.float64)"
   ]
  },
  {
   "cell_type": "markdown",
   "id": "63747fd0",
   "metadata": {},
   "source": [
    "## Array function"
   ]
  },
  {
   "cell_type": "code",
   "execution_count": 24,
   "id": "66d7dccb",
   "metadata": {},
   "outputs": [
    {
     "data": {
      "text/plain": [
       "array([ 10. ,  15. ,   2. ,  70. ,   1.5,  55. , 350. , 700. ,  40. ,\n",
       "       890. ,  60. ])"
      ]
     },
     "execution_count": 24,
     "metadata": {},
     "output_type": "execute_result"
    }
   ],
   "source": [
    "a=np.array([10,15,2,70,1.5,55,350,700,40,890,60])\n",
    "a"
   ]
  },
  {
   "cell_type": "code",
   "execution_count": 26,
   "id": "69663c02",
   "metadata": {},
   "outputs": [
    {
     "data": {
      "text/plain": [
       "array([  1.5,   2. ,  10. ,  15. ,  40. ,  55. ,  60. ,  70. , 350. ,\n",
       "       700. , 890. ])"
      ]
     },
     "execution_count": 26,
     "metadata": {},
     "output_type": "execute_result"
    }
   ],
   "source": [
    "a.sort()\n",
    "a"
   ]
  },
  {
   "cell_type": "code",
   "execution_count": 27,
   "id": "5dc13793",
   "metadata": {},
   "outputs": [
    {
     "data": {
      "text/plain": [
       "[10, 5, 7, 9, 6, 1, 5, 7]"
      ]
     },
     "execution_count": 27,
     "metadata": {},
     "output_type": "execute_result"
    }
   ],
   "source": [
    "b=([10,5,7,9,6,1,5,7,])\n",
    "b"
   ]
  },
  {
   "cell_type": "code",
   "execution_count": 32,
   "id": "e93a6e07",
   "metadata": {},
   "outputs": [
    {
     "data": {
      "text/plain": [
       "array([  1.5,   2. ,  10. ,  15. ,  40. ,  55. ,  60. ,  70. , 350. ,\n",
       "       700. , 890. ,  10. ,   5. ,   7. ,   9. ,   6. ,   1. ,   5. ,\n",
       "         7. ])"
      ]
     },
     "execution_count": 32,
     "metadata": {},
     "output_type": "execute_result"
    }
   ],
   "source": [
    "c=np.concatenate((a,b))\n",
    "c"
   ]
  },
  {
   "cell_type": "code",
   "execution_count": 33,
   "id": "29e30007",
   "metadata": {},
   "outputs": [
    {
     "data": {
      "text/plain": [
       "array([  1. ,   1.5,   2. ,   5. ,   5. ,   6. ,   7. ,   7. ,   9. ,\n",
       "        10. ,  10. ,  15. ,  40. ,  55. ,  60. ,  70. , 350. , 700. ,\n",
       "       890. ])"
      ]
     },
     "execution_count": 33,
     "metadata": {},
     "output_type": "execute_result"
    }
   ],
   "source": [
    "c.sort()\n",
    "c"
   ]
  },
  {
   "cell_type": "markdown",
   "id": "072ecfb0",
   "metadata": {},
   "source": [
    "## 2-D Array"
   ]
  },
  {
   "cell_type": "code",
   "execution_count": 35,
   "id": "db19708b",
   "metadata": {},
   "outputs": [
    {
     "data": {
      "text/plain": [
       "array([[ 4,  8,  5,  7],\n",
       "       [ 8, 10, 20, 25]])"
      ]
     },
     "execution_count": 35,
     "metadata": {},
     "output_type": "execute_result"
    }
   ],
   "source": [
    "a=np.array([[4,8,5,7],[8,10,20,25]])\n",
    "a"
   ]
  },
  {
   "cell_type": "code",
   "execution_count": 36,
   "id": "af8fecce",
   "metadata": {},
   "outputs": [
    {
     "data": {
      "text/plain": [
       "array([[17, 15, 46,  1],\n",
       "       [ 4, 52, 32,  7]])"
      ]
     },
     "execution_count": 36,
     "metadata": {},
     "output_type": "execute_result"
    }
   ],
   "source": [
    "b=np.array([[17,15,46,1],[4,52,32,7]])\n",
    "b"
   ]
  },
  {
   "cell_type": "code",
   "execution_count": 38,
   "id": "6cad1cf4",
   "metadata": {},
   "outputs": [
    {
     "data": {
      "text/plain": [
       "array([[ 4,  8,  5,  7],\n",
       "       [ 8, 10, 20, 25],\n",
       "       [17, 15, 46,  1],\n",
       "       [ 4, 52, 32,  7]])"
      ]
     },
     "execution_count": 38,
     "metadata": {},
     "output_type": "execute_result"
    }
   ],
   "source": [
    "c=np.concatenate((a,b))\n",
    "c"
   ]
  },
  {
   "cell_type": "code",
   "execution_count": 39,
   "id": "8b3fda89",
   "metadata": {},
   "outputs": [
    {
     "data": {
      "text/plain": [
       "array([[ 4,  8,  5,  7],\n",
       "       [ 8, 10, 20, 25],\n",
       "       [17, 15, 46,  1],\n",
       "       [ 4, 52, 32,  7]])"
      ]
     },
     "execution_count": 39,
     "metadata": {},
     "output_type": "execute_result"
    }
   ],
   "source": [
    "c=np.concatenate((a,b),axis=0)\n",
    "c"
   ]
  },
  {
   "cell_type": "code",
   "execution_count": 40,
   "id": "b625542e",
   "metadata": {},
   "outputs": [
    {
     "data": {
      "text/plain": [
       "array([[ 4,  8,  5,  7, 17, 15, 46,  1],\n",
       "       [ 8, 10, 20, 25,  4, 52, 32,  7]])"
      ]
     },
     "execution_count": 40,
     "metadata": {},
     "output_type": "execute_result"
    }
   ],
   "source": [
    "c=np.concatenate((a,b),axis=1)\n",
    "c"
   ]
  },
  {
   "cell_type": "code",
   "execution_count": 53,
   "id": "919b9516",
   "metadata": {},
   "outputs": [
    {
     "data": {
      "text/plain": [
       "array([[[0, 1, 2, 3],\n",
       "        [4, 5, 6, 7]],\n",
       "\n",
       "       [[0, 1, 2, 3],\n",
       "        [4, 5, 6, 7]],\n",
       "\n",
       "       [[0, 1, 2, 3],\n",
       "        [4, 5, 6, 7]]])"
      ]
     },
     "execution_count": 53,
     "metadata": {},
     "output_type": "execute_result"
    }
   ],
   "source": [
    "a=np.array([[[0,1,2,3],[4,5,6,7]],[[0,1,2,3],[4,5,6,7]],[[0,1,2,3],[4,5,6,7]]])\n",
    "a"
   ]
  },
  {
   "cell_type": "code",
   "execution_count": 54,
   "id": "d3ef8220",
   "metadata": {},
   "outputs": [
    {
     "data": {
      "text/plain": [
       "3"
      ]
     },
     "execution_count": 54,
     "metadata": {},
     "output_type": "execute_result"
    }
   ],
   "source": [
    "# to find the number of dimension\n",
    "a.ndim"
   ]
  },
  {
   "cell_type": "code",
   "execution_count": 55,
   "id": "dd092961",
   "metadata": {},
   "outputs": [
    {
     "data": {
      "text/plain": [
       "24"
      ]
     },
     "execution_count": 55,
     "metadata": {},
     "output_type": "execute_result"
    }
   ],
   "source": [
    "# number of elements\n",
    "a.size"
   ]
  },
  {
   "cell_type": "code",
   "execution_count": 60,
   "id": "750db1f8",
   "metadata": {},
   "outputs": [
    {
     "data": {
      "text/plain": [
       "array([[ 3,  4,  5],\n",
       "       [ 6,  7,  8],\n",
       "       [ 9, 10, 11]])"
      ]
     },
     "execution_count": 60,
     "metadata": {},
     "output_type": "execute_result"
    }
   ],
   "source": [
    "b=np.array([[3,4,5],[6,7,8],[9,10,11]])\n",
    "b"
   ]
  },
  {
   "cell_type": "code",
   "execution_count": 57,
   "id": "6a167ade",
   "metadata": {},
   "outputs": [
    {
     "data": {
      "text/plain": [
       "2"
      ]
     },
     "execution_count": 57,
     "metadata": {},
     "output_type": "execute_result"
    }
   ],
   "source": [
    "b.ndim"
   ]
  },
  {
   "cell_type": "code",
   "execution_count": 65,
   "id": "175c43d4",
   "metadata": {},
   "outputs": [
    {
     "data": {
      "text/plain": [
       "9"
      ]
     },
     "execution_count": 65,
     "metadata": {},
     "output_type": "execute_result"
    }
   ],
   "source": [
    "# number of elements\n",
    "b.size"
   ]
  },
  {
   "cell_type": "code",
   "execution_count": 66,
   "id": "77bcd57a",
   "metadata": {},
   "outputs": [
    {
     "data": {
      "text/plain": [
       "(3, 2, 4)"
      ]
     },
     "execution_count": 66,
     "metadata": {},
     "output_type": "execute_result"
    }
   ],
   "source": [
    "# Shape of array\n",
    "a.shape"
   ]
  },
  {
   "cell_type": "code",
   "execution_count": 67,
   "id": "e3a3c503",
   "metadata": {},
   "outputs": [
    {
     "data": {
      "text/plain": [
       "(3, 3)"
      ]
     },
     "execution_count": 67,
     "metadata": {},
     "output_type": "execute_result"
    }
   ],
   "source": [
    "b.shape"
   ]
  },
  {
   "cell_type": "code",
   "execution_count": 68,
   "id": "7d34ca32",
   "metadata": {},
   "outputs": [
    {
     "data": {
      "text/plain": [
       "array([0, 1, 2, 3, 4, 5, 6, 7, 8])"
      ]
     },
     "execution_count": 68,
     "metadata": {},
     "output_type": "execute_result"
    }
   ],
   "source": [
    "# Reshape of Array\n",
    "a=np.arange(9)\n",
    "a"
   ]
  },
  {
   "cell_type": "code",
   "execution_count": 71,
   "id": "7361f456",
   "metadata": {},
   "outputs": [
    {
     "data": {
      "text/plain": [
       "array([[0, 1, 2],\n",
       "       [3, 4, 5],\n",
       "       [6, 7, 8]])"
      ]
     },
     "execution_count": 71,
     "metadata": {},
     "output_type": "execute_result"
    }
   ],
   "source": [
    "b=a.reshape(3,3)\n",
    "b"
   ]
  },
  {
   "cell_type": "code",
   "execution_count": 72,
   "id": "579cfe98",
   "metadata": {},
   "outputs": [
    {
     "data": {
      "text/plain": [
       "array([[0, 1, 2, 3, 4, 5, 6, 7, 8]])"
      ]
     },
     "execution_count": 72,
     "metadata": {},
     "output_type": "execute_result"
    }
   ],
   "source": [
    "# 2nd method reshape\n",
    "np.reshape(a,newshape=(1,9), order='C')"
   ]
  },
  {
   "cell_type": "code",
   "execution_count": 74,
   "id": "448511b0",
   "metadata": {},
   "outputs": [
    {
     "data": {
      "text/plain": [
       "array([1, 2, 3, 4, 5, 6, 7, 8, 9])"
      ]
     },
     "execution_count": 74,
     "metadata": {},
     "output_type": "execute_result"
    }
   ],
   "source": [
    "# coversion of array from 1-D to 2-D\n",
    "a=np.array([1,2,3,4,5,6,7,8,9])\n",
    "a"
   ]
  },
  {
   "cell_type": "code",
   "execution_count": 75,
   "id": "4c14e1d1",
   "metadata": {},
   "outputs": [
    {
     "data": {
      "text/plain": [
       "(9,)"
      ]
     },
     "execution_count": 75,
     "metadata": {},
     "output_type": "execute_result"
    }
   ],
   "source": [
    "a.shape"
   ]
  },
  {
   "cell_type": "code",
   "execution_count": 77,
   "id": "6b3f3e13",
   "metadata": {},
   "outputs": [
    {
     "data": {
      "text/plain": [
       "array([[1, 2, 3, 4, 5, 6, 7, 8, 9]])"
      ]
     },
     "execution_count": 77,
     "metadata": {},
     "output_type": "execute_result"
    }
   ],
   "source": [
    "b=a[np.newaxis,:]\n",
    "b"
   ]
  },
  {
   "cell_type": "code",
   "execution_count": 78,
   "id": "0c0efb38",
   "metadata": {},
   "outputs": [
    {
     "data": {
      "text/plain": [
       "(1, 9)"
      ]
     },
     "execution_count": 78,
     "metadata": {},
     "output_type": "execute_result"
    }
   ],
   "source": [
    "b.shape"
   ]
  },
  {
   "cell_type": "code",
   "execution_count": 79,
   "id": "231a99ab",
   "metadata": {},
   "outputs": [
    {
     "data": {
      "text/plain": [
       "array([[1],\n",
       "       [2],\n",
       "       [3],\n",
       "       [4],\n",
       "       [5],\n",
       "       [6],\n",
       "       [7],\n",
       "       [8],\n",
       "       [9]])"
      ]
     },
     "execution_count": 79,
     "metadata": {},
     "output_type": "execute_result"
    }
   ],
   "source": [
    "c=a[:,np.newaxis]\n",
    "c"
   ]
  },
  {
   "cell_type": "code",
   "execution_count": 80,
   "id": "432946b3",
   "metadata": {},
   "outputs": [
    {
     "data": {
      "text/plain": [
       "array([1, 2, 3, 4, 5, 6, 7, 8, 9])"
      ]
     },
     "execution_count": 80,
     "metadata": {},
     "output_type": "execute_result"
    }
   ],
   "source": [
    "a"
   ]
  },
  {
   "cell_type": "code",
   "execution_count": 81,
   "id": "e491fcd1",
   "metadata": {},
   "outputs": [
    {
     "data": {
      "text/plain": [
       "array([3, 4, 5, 6, 7, 8, 9])"
      ]
     },
     "execution_count": 81,
     "metadata": {},
     "output_type": "execute_result"
    }
   ],
   "source": [
    "a[2:9]"
   ]
  },
  {
   "cell_type": "code",
   "execution_count": 82,
   "id": "955e182f",
   "metadata": {},
   "outputs": [
    {
     "data": {
      "text/plain": [
       "array([ 6, 12, 18, 24, 30, 36, 42, 48, 54])"
      ]
     },
     "execution_count": 82,
     "metadata": {},
     "output_type": "execute_result"
    }
   ],
   "source": [
    "a*6"
   ]
  },
  {
   "cell_type": "code",
   "execution_count": 83,
   "id": "7da5a142",
   "metadata": {},
   "outputs": [
    {
     "data": {
      "text/plain": [
       "array([ 7,  8,  9, 10, 11, 12, 13, 14, 15])"
      ]
     },
     "execution_count": 83,
     "metadata": {},
     "output_type": "execute_result"
    }
   ],
   "source": [
    "a+6"
   ]
  },
  {
   "cell_type": "code",
   "execution_count": 85,
   "id": "67b7a645",
   "metadata": {},
   "outputs": [
    {
     "data": {
      "text/plain": [
       "45"
      ]
     },
     "execution_count": 85,
     "metadata": {},
     "output_type": "execute_result"
    }
   ],
   "source": [
    "a.sum()"
   ]
  },
  {
   "cell_type": "code",
   "execution_count": 86,
   "id": "f91aee9a",
   "metadata": {},
   "outputs": [
    {
     "data": {
      "text/plain": [
       "5.0"
      ]
     },
     "execution_count": 86,
     "metadata": {},
     "output_type": "execute_result"
    }
   ],
   "source": [
    "a.mean()"
   ]
  },
  {
   "cell_type": "code",
   "execution_count": null,
   "id": "403427d3",
   "metadata": {},
   "outputs": [],
   "source": []
  },
  {
   "cell_type": "code",
   "execution_count": null,
   "id": "016c4e8e",
   "metadata": {},
   "outputs": [],
   "source": []
  },
  {
   "cell_type": "code",
   "execution_count": null,
   "id": "be1008b0",
   "metadata": {},
   "outputs": [],
   "source": []
  }
 ],
 "metadata": {
  "kernelspec": {
   "display_name": "Python 3 (ipykernel)",
   "language": "python",
   "name": "python3"
  },
  "language_info": {
   "codemirror_mode": {
    "name": "ipython",
    "version": 3
   },
   "file_extension": ".py",
   "mimetype": "text/x-python",
   "name": "python",
   "nbconvert_exporter": "python",
   "pygments_lexer": "ipython3",
   "version": "3.9.7"
  }
 },
 "nbformat": 4,
 "nbformat_minor": 5
}
